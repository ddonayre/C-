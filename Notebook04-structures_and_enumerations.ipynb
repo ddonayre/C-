{
  "cells": [
    {
      "cell_type": "markdown",
      "metadata": {
        "id": "WJk3UUJbGbDj"
      },
      "source": [
        "<a target=\"_blank\" href=\"https://colab.research.google.com/github/WSU-CS1410-AA/cs1410-notebooks/blob/main/Notebook04-structures_and_enumerations.ipynb\">\n",
        "  <img src=\"https://colab.research.google.com/assets/colab-badge.svg\" alt=\"Open In Colab\"/>\n",
        "</a>"
      ]
    },
    {
      "cell_type": "markdown",
      "metadata": {
        "id": "ewIwmNRzGbDp"
      },
      "source": [
        "# Structures\n",
        "So far we have seen simple data types representing single value-ed data. For example, `int` is a data type representing individual integer values such as 6, 89, and 100. The same can be said about the simple types:\n",
        "* `char` representing individual characters such as `'@'` and `'Z'`;\n",
        "* `short` and `long` representing special types of integers with individual values such as `12S`, and `876L`;\n",
        "* `float` or `double` representing individual floating-point numbers (numbers with fractions) such as `5.4F` and `523.17`.\n",
        "* `bool` representing the individual boolean values of `true` or `false`.\n",
        "\n",
        "Most of the data we deal with is, however, composite; it contains complex values that are made out of multiple simpler values of either the same type or of different types. C++ gives us two main ways to create new composite data types out of other simpler types: **structures** and **classes**. These types represent **structured values** which are composite (complex) values made from simpler values. This notebook covers structures; classes will be covered later on.\n",
        "\n",
        "Structures are meant to help us achieve a better organization of our data (or variables) by grouping relative variables together to form or create new bigger data types in a meaningful way.\n",
        "\n",
        "For example, a date can be thought of as a composite of three simple integers: year, month, and day. We can capture that idea by having a structure like this:\n",
        "\n",
        "```cpp\n",
        "struct Date {\n",
        "  int day;\n",
        "  int month;\n",
        "  int year;\n",
        "};\n",
        "```"
      ]
    },
    {
      "cell_type": "markdown",
      "metadata": {
        "id": "snzFUj5JGbDq"
      },
      "source": [
        "By combining these three integers (day, month, and year which we now call data members) together we create a new kind of data type named `Date`, which we can use to create date variables.\n",
        "\n",
        "Notice in the example above that all the data members (day, month, and year) are of the same data type. We can have structures with data members of different data types. Here is an example structure representing distances (in feet and inches). Here the `feet` data member is `int` while the `inches` data member is `double`.\n",
        "\n",
        "```cpp\n",
        "struct Distance {\n",
        "  int feet;\n",
        "  double inches;\n",
        "};\n",
        "```"
      ]
    },
    {
      "cell_type": "markdown",
      "metadata": {
        "id": "RcpK4poOGbDr"
      },
      "source": [
        "And we can even nest structures: define them in terms of other sub-structures. For example, we can define a structure capturing the distance measurements of a room in a house by having a structure with two `Distance` data types: length and width.\n",
        "\n",
        "```cpp\n",
        "struct Room {\n",
        "  Distance length;\n",
        "  Distance width;\n",
        "};\n",
        "\n",
        "```"
      ]
    },
    {
      "cell_type": "markdown",
      "metadata": {
        "id": "A-VI74bcGbDr"
      },
      "source": [
        "### CODING CHALLENGE 1\n",
        "**Part 1**: Define a structure that represents time which is a combination of three integers: hour, minute, and second.\n",
        "\n",
        "**Part 2**: Define a structure that represents a student's information in a college admission system. Use the following data members: id (integer), first_name (string), last_name (string), and birth_date (use the above Date structure)."
      ]
    },
    {
      "cell_type": "code",
      "execution_count": 2,
      "metadata": {
        "colab": {
          "base_uri": "https://localhost:8080/"
        },
        "id": "hBrpdJ3xGbDs",
        "outputId": "e9542e2a-92c1-45f0-d0d2-455889464b0c"
      },
      "outputs": [
        {
          "output_type": "stream",
          "name": "stdout",
          "text": [
            "Overwriting ch01.cpp\n"
          ]
        }
      ],
      "source": [
        "%%writefile ch01.cpp\n",
        "\n",
        "//TODO: Part 1\n",
        "\n",
        "struct Time {\n",
        "    int hour;\n",
        "    int minute;\n",
        "    int second;\n",
        "};\n",
        "\n",
        "// TODO: Part 2\n",
        "\n",
        "struct Student {\n",
        "    int id;\n",
        "    string first_name;\n",
        "    string last_name;\n",
        "    birth_date Date;\n",
        "};\n"
      ]
    },
    {
      "cell_type": "markdown",
      "metadata": {
        "id": "CbiJUwAdGbDs"
      },
      "source": [
        "## Using structures\n",
        "Once we have a structure defined. we can use it to define structure variables (or objects) in the same way we used basic data types (`int`, `char`, `double`, `bool`, etc). That use we use the patter:\n",
        "\n",
        "```cpp\n",
        "  <structure-name> <variable-name>;\n",
        "```\n",
        "\n",
        "Here is an example `Date` object named `dob`.\n",
        "\n",
        "```cpp\n",
        "Date dob;\n",
        "```\n",
        "\n",
        "Similarly, here other example object definitions using the structures we defined earlier:\n",
        "\n",
        "```cpp\n",
        "Distance roomLength, roomWidth;\n",
        "Room living;\n",
        "```"
      ]
    },
    {
      "cell_type": "markdown",
      "metadata": {
        "id": "ScnLYJQQGbDt"
      },
      "source": [
        "Optionally we can initialize structured objects at the time of defining them by providing initial values in two ways:\n",
        "\n",
        "\n",
        "```cpp\n",
        "  <structure-name> <variable-name> = { <comma-separated-initial-values> };\n",
        "```\n",
        "\n",
        "or\n",
        "\n",
        "```cpp\n",
        "  <structure-name> <variable-name> { <comma-separated-initial-values> };\n",
        "```\n",
        "\n",
        "This is similar to how we initialize integer, boolean, character, or double variables. The only difference is that, here we have multiple initial values since we have multiple data members to initialize.\n",
        "\n",
        "Here is an example Date object representing Martin Luther King Jr. day for the year of 2019\n",
        "\n",
        "```cpp\n",
        "Date mlk_day = { 15, 1, 2019 };\n",
        "```"
      ]
    },
    {
      "cell_type": "markdown",
      "metadata": {
        "id": "-vhrQ2NHGbDu"
      },
      "source": [
        "It's important to remember here that these initial values are assigned to the data members in the order they show up in the structure. Since the `Date` object is defined as:\n",
        "```C++\n",
        "struct Date {\n",
        "  int day;\n",
        "  int month;\n",
        "  int year;\n",
        "};\n",
        "```\n",
        "the above `mlk_day` object will have its day initialized to 15, its month to 1, and its year to 2019.\n",
        "\n",
        "Here is an initialized Distance object named `truckLength`:\n",
        "\n",
        "```cpp\n",
        "Distance truckLength { 12, .5 };\n",
        "```\n"
      ]
    },
    {
      "cell_type": "markdown",
      "metadata": {
        "id": "ZPbcKGC5GbDu"
      },
      "source": [
        "Again the `feet` member of `truckLength` is initialized to 12 and the `inches` member to .5.\n",
        "\n",
        "**What about nested structures? How do you initialize them?** Well, we follow the same pattern and use nested braces. For example, here is an initialized `Room` object named `bedroom`:\n",
        "\n",
        "```cpp\n",
        "Room bedroom  { { 12, 4.0 }, { 16, 0.0 } };\n",
        "```"
      ]
    },
    {
      "cell_type": "markdown",
      "metadata": {
        "id": "Ftb3UxSGGbDu"
      },
      "source": [
        "Knowing that the `Room` structure is defined as:\n",
        "\n",
        "```C++\n",
        "struct Room {\n",
        "  Distance length;\n",
        "  Distance width;\n",
        "};\n",
        "```\n",
        "\n",
        "In the above `bedroom` example, the `length` data member is initialed to `{ 12, 4.0 }` ( 12 feet and 4.0 inches) and the `width` member is initialized to `{ 16, 0.0 }` (16 feet and 0.0 inches)."
      ]
    },
    {
      "cell_type": "markdown",
      "metadata": {
        "id": "g5DELVpGGbDv"
      },
      "source": [
        "## The dot operator\n",
        "To access the individual data members of these structure objects, we use the **dot operator**. Given the above date object `mlk_day`, for example, we can use the pattern:\n",
        "\n",
        "```C++\n",
        "<object-name>.<data-member-name>\n",
        "```\n",
        "to access the data members of this object and print them in the familiar `Month/Day/Year` format like this:\n",
        "\n",
        "```cpp\n",
        "cout << mlk_day.month << '/' <<  mlk_day.day << '/' << mlk_day.year;\n",
        "```\n",
        "\n",
        "We can also use the dot operator to set values for an object. For example, we can set the values of the day, month, and year members of the previously defined dob object by doing something like this.\n",
        "\n",
        "```cpp\n",
        "dob.day = 27;\n",
        "dob.month = 8;\n",
        "dob.year = 2024;\n",
        "```\n",
        "\n",
        "And for complex nested structures like `Room` where we have substructures (like `Distance`), we can use multiple dot operators like this:\n",
        "\n",
        "```cpp\n",
        "cout << \"Bedroom measurements: \" << endl\n",
        "     << \"  length = \" << bedroom.length.feet << \"' \" << bedroom.length.inches << '\"' << endl\n",
        "     << \"  width = \" << bedroom.width.feet << \"' \" << bedroom.width.inches << '\"' << endl;\n",
        "```\n"
      ]
    },
    {
      "cell_type": "markdown",
      "source": [
        "\n",
        "## Putting it all together\n",
        "\n",
        "Here is a program putting all the above structures together:"
      ],
      "metadata": {
        "id": "i6ceiySG9glb"
      }
    },
    {
      "cell_type": "code",
      "execution_count": 24,
      "metadata": {
        "colab": {
          "base_uri": "https://localhost:8080/"
        },
        "id": "l3h-9LTVGbDv",
        "outputId": "cdb49ef3-b130-4b60-b64e-fb8d0514ece9"
      },
      "outputs": [
        {
          "output_type": "stream",
          "name": "stdout",
          "text": [
            "Writing ex01.cpp\n"
          ]
        }
      ],
      "source": [
        "%%writefile ex01.cpp\n",
        "\n",
        "#include <iostream>\n",
        "using namespace std;\n",
        "\n",
        "struct Date {\n",
        "  int day;\n",
        "  int month;\n",
        "  int year;\n",
        "};\n",
        "\n",
        "struct Distance {\n",
        "  int feet;\n",
        "  double inches;\n",
        "};\n",
        "\n",
        "struct Room {\n",
        "  Distance length;\n",
        "  Distance width;\n",
        "};\n",
        "\n",
        "int main(){\n",
        "  Date mlk_day = { 15, 1, 2019 };\n",
        "  cout << \"MLK Day: \" << mlk_day.month << '/' <<  mlk_day.day << '/'\n",
        "       << mlk_day.year << endl << endl;\n",
        "\n",
        "  Date dob;\n",
        "  dob.day = 27;\n",
        "  dob.month = 8;\n",
        "  dob.year = 2024;\n",
        "  cout << \"DOB: \" << dob.month << '/' <<  dob.day << '/' << dob.year\n",
        "       << endl << endl;\n",
        "\n",
        "  Room bedroom  { { 12, 4.0 }, { 16, 0.0 } };\n",
        "  cout << \"Bedroom measurements: \" << endl\n",
        "     << \"  length = \" << bedroom.length.feet << \"' \" << bedroom.length.inches << '\"' << endl\n",
        "     << \"  width = \" << bedroom.width.feet << \"' \" << bedroom.width.inches << '\"' << endl;\n",
        "\n",
        "  return 0;\n",
        "}"
      ]
    },
    {
      "cell_type": "code",
      "source": [
        "!g++ -std=c++17 ex01.cpp -o ex01\n",
        "!./ex01"
      ],
      "metadata": {
        "colab": {
          "base_uri": "https://localhost:8080/"
        },
        "id": "e87z9uGPJWhM",
        "outputId": "190d30a2-bc39-4fcd-e5b6-75c4ef179243"
      },
      "execution_count": 25,
      "outputs": [
        {
          "output_type": "stream",
          "name": "stdout",
          "text": [
            "MLK Day: 1/15/2019\n",
            "\n",
            "DOB: 8/27/2024\n",
            "\n",
            "Bedroom measurements: \n",
            "  length = 12' 4\"\n",
            "  width = 16' 0\"\n"
          ]
        }
      ]
    },
    {
      "cell_type": "markdown",
      "metadata": {
        "id": "QX3JDB6EGbDx"
      },
      "source": [
        "## CODING CHALLENGE 2\n",
        "\n",
        "Complete the program below by peforming all the `TODO` tasks. Use the next three code cells to define three structure variables, initialize them to the given values, and print their values."
      ]
    },
    {
      "cell_type": "code",
      "execution_count": 6,
      "metadata": {
        "colab": {
          "base_uri": "https://localhost:8080/"
        },
        "id": "wzPpwWKeGbDx",
        "outputId": "aa7a9c4d-7506-4489-b5fd-a130fb25da1e"
      },
      "outputs": [
        {
          "output_type": "stream",
          "name": "stdout",
          "text": [
            "Overwriting ch02.cpp\n"
          ]
        }
      ],
      "source": [
        "%%writefile ch02.cpp\n",
        "\n",
        "#include <iostream>\n",
        "using namespace std;\n",
        "\n",
        "struct Date {\n",
        "  int day;\n",
        "  int month;\n",
        "  int year;\n",
        "};\n",
        "\n",
        "struct Time {\n",
        "  // TODO: Add Time's data members' here\n",
        "  int hour;\n",
        "  int minute;\n",
        "  int second;\n",
        "};\n",
        "\n",
        "struct Distance {\n",
        "  int feet;\n",
        "  double inches;\n",
        "};\n",
        "\n",
        "\n",
        "int main(){\n",
        "  // TODO: define a date variable named 'today' and initialize it to today's values.\n",
        "\n",
        "  Date today;\n",
        "  today.day = 8;\n",
        "  today.month = 8;\n",
        "  today.year = 2025;\n",
        "\n",
        "  // TODO: print the values of this variable.\n",
        "\n",
        "  cout << \"Today is \" << today.month << \"/\" << today.day << \"/\" << today.year << \".\" << endl;\n",
        "\n",
        "  // TODO: define a time variable named 'noon' and initialize it to time 12:00:00. Use the\n",
        "  //       Time structure you created for the previous CODING CHALLENGE.\n",
        "\n",
        "  Time noon = {12, 0, 0};\n",
        "\n",
        "  // TODO: print the values of this variable.\n",
        "\n",
        "  cout << \"Noon is at \" << noon.hour << \":\" << noon.minute << \":\" << noon.second << \".\" << endl;\n",
        "\n",
        "  // TODO: define a distance variable named 'height' and initialize it to 10 feet and 7.5 inches.\n",
        "\n",
        "  Distance height = {10, 7.5};\n",
        "\n",
        "  // TODO: print the values of this variable.\n",
        "\n",
        "  cout << \"The height you measured is \" << height.feet << \"' \" << height.inches << \"\\\".\" << endl;\n",
        "\n",
        "  return 0;\n",
        "}"
      ]
    },
    {
      "cell_type": "code",
      "execution_count": 7,
      "metadata": {
        "id": "4UeXxIJJGbDx",
        "colab": {
          "base_uri": "https://localhost:8080/"
        },
        "outputId": "ce747ada-e770-46b7-9991-44a530ac83b7"
      },
      "outputs": [
        {
          "output_type": "stream",
          "name": "stdout",
          "text": [
            "Today is 8/8/2025.\n",
            "Noon is at 12:0:0.\n",
            "The height you measured is 10' 7.5\".\n"
          ]
        }
      ],
      "source": [
        "!g++ -std=c++17 ch02.cpp -o ch02\n",
        "!./ch02"
      ]
    },
    {
      "cell_type": "markdown",
      "source": [
        "# Enumerations"
      ],
      "metadata": {
        "id": "-miccuGEE13n"
      }
    },
    {
      "cell_type": "markdown",
      "metadata": {
        "id": "t5ocpZwLGbDy"
      },
      "source": [
        "## C-style enumerations\n",
        "\n",
        "Often times, we have variables that can take only a limited number of values. Think, for example, about days which can only be Sunday through Saturday. The same goes for months (January through December), letter grades (A through E), directions (east, west, north, south), and so on.\n",
        "\n",
        "C++ gives us the ability to enumerate these possible values (so that the compiler knows about them) and use them in your program. Here is the definition of an example enumeration named `DayOfWeek` listing all seven days of the week:\n",
        "\n",
        "```cpp\n",
        "enum DayOfWeek {\n",
        "  SUN, MON, TUE, WED, THU, FRI, SAT\n",
        "};\n",
        "```\n",
        "\n",
        "Each of these enumerated values (SUN through SAT) will be assigned an integer. By default, the compiler will start with 0 and assign it to the first enumerated SUN value, then 1 for MON, 2 for TUE, and so on.\n",
        "\n",
        "Now we can use this enumeration as a data type to define a day variable like this:\n",
        "\n",
        "```cpp\n",
        "DayOfWeek tomorrow = WED;\n",
        "```\n",
        "\n",
        "And if we print the value of `tomorrow`:\n",
        "\n",
        "```cpp\n",
        "cout << \"Tomorrow is: \" << tomorrow << endl;\n",
        "```\n",
        "\n",
        "It will give us an output like this:\n",
        "\n",
        "```txt\n",
        "Tomorrow is: 3\n",
        "```"
      ]
    },
    {
      "cell_type": "markdown",
      "metadata": {
        "id": "bq-UpQOdGbD0"
      },
      "source": [
        "We see the value `3` being the value assigned to `WED` by the compiler by default. If we want to tell the compiler what integers to assign enumerated values or  what integer to start with, we can do something like this (to tell the compiler to start by assigning 1 to SUN):\n",
        "\n",
        "```cpp\n",
        "enum CustomDayOfWeek {\n",
        " SUN = 1, MON, TUE, WED, THU, FRI, SAT\n",
        "};\n",
        "```"
      ]
    },
    {
      "cell_type": "markdown",
      "metadata": {
        "id": "XvszmwSJGbD1"
      },
      "source": [
        "Here, SUN is hard-assigned 1, and MON will be assigned the next value after that which is 2, TUE will be 3, and so on.\n",
        "\n",
        "Notice here that the enumerated values (SUN through SAT) defined in the `CustomDayOfWeek` enumeration are the same names defined in the `DayOfWeek` enumeration. This can lead to naming conflicts and confuse the compiler. Run the program below to see these errors."
      ]
    },
    {
      "cell_type": "code",
      "execution_count": 26,
      "metadata": {
        "colab": {
          "base_uri": "https://localhost:8080/"
        },
        "id": "rfLRy43kGbD1",
        "outputId": "8a0ff08e-b25d-44da-f077-e35b39db58de"
      },
      "outputs": [
        {
          "output_type": "stream",
          "name": "stdout",
          "text": [
            "Writing ex02.cpp\n"
          ]
        }
      ],
      "source": [
        "%%writefile ex02.cpp\n",
        "\n",
        "#include <iostream>\n",
        "using namespace std;\n",
        "\n",
        "enum DayOfWeek {\n",
        "  SUN, MON, TUE, WED, THU, FRI, SAT\n",
        "};\n",
        "\n",
        "enum CustomDayOfWeek {\n",
        "  SUN = 1, MON, TUE, WED, THU, FRI, SAT\n",
        "};\n",
        "\n",
        "\n",
        "int main(){\n",
        "  DayOfWeek tomorrow = WED;\n",
        "  cout << \"Tomorrow is: \" << tomorrow << endl;\n",
        "\n",
        "  CustomDayOfWeek a_day = WED;\n",
        "  cout << \"A day is: \" << a_day << endl;\n",
        "\n",
        "  return 0;\n",
        "}\n"
      ]
    },
    {
      "cell_type": "code",
      "source": [
        "!g++ -std=c++17 ex02.cpp -o ex02\n",
        "!./ex02"
      ],
      "metadata": {
        "id": "CSWiGW2EBFRq",
        "outputId": "02ab1042-69f5-477a-a28c-670429c86e6b",
        "colab": {
          "base_uri": "https://localhost:8080/"
        }
      },
      "execution_count": 27,
      "outputs": [
        {
          "output_type": "stream",
          "name": "stdout",
          "text": [
            "\u001b[01m\u001b[Kex02.cpp:10:9:\u001b[m\u001b[K \u001b[01;31m\u001b[Kerror: \u001b[m\u001b[K‘\u001b[01m\u001b[KSUN\u001b[m\u001b[K’ conflicts with a previous declaration\n",
            "   10 |   SUN = \u001b[01;31m\u001b[K1\u001b[m\u001b[K, MON, TUE, WED, THU, FRI, SAT\n",
            "      |         \u001b[01;31m\u001b[K^\u001b[m\u001b[K\n",
            "\u001b[01m\u001b[Kex02.cpp:6:3:\u001b[m\u001b[K \u001b[01;36m\u001b[Knote: \u001b[m\u001b[Kprevious declaration ‘\u001b[01m\u001b[KDayOfWeek SUN\u001b[m\u001b[K’\n",
            "    6 |   \u001b[01;36m\u001b[KSUN\u001b[m\u001b[K, MON, TUE, WED, THU, FRI, SAT\n",
            "      |   \u001b[01;36m\u001b[K^~~\u001b[m\u001b[K\n",
            "\u001b[01m\u001b[Kex02.cpp:10:12:\u001b[m\u001b[K \u001b[01;31m\u001b[Kerror: \u001b[m\u001b[K‘\u001b[01m\u001b[KMON\u001b[m\u001b[K’ conflicts with a previous declaration\n",
            "   10 |   SUN = 1, \u001b[01;31m\u001b[KMON\u001b[m\u001b[K, TUE, WED, THU, FRI, SAT\n",
            "      |            \u001b[01;31m\u001b[K^~~\u001b[m\u001b[K\n",
            "\u001b[01m\u001b[Kex02.cpp:6:8:\u001b[m\u001b[K \u001b[01;36m\u001b[Knote: \u001b[m\u001b[Kprevious declaration ‘\u001b[01m\u001b[KDayOfWeek MON\u001b[m\u001b[K’\n",
            "    6 |   SUN, \u001b[01;36m\u001b[KMON\u001b[m\u001b[K, TUE, WED, THU, FRI, SAT\n",
            "      |        \u001b[01;36m\u001b[K^~~\u001b[m\u001b[K\n",
            "\u001b[01m\u001b[Kex02.cpp:10:17:\u001b[m\u001b[K \u001b[01;31m\u001b[Kerror: \u001b[m\u001b[K‘\u001b[01m\u001b[KTUE\u001b[m\u001b[K’ conflicts with a previous declaration\n",
            "   10 |   SUN = 1, MON, \u001b[01;31m\u001b[KTUE\u001b[m\u001b[K, WED, THU, FRI, SAT\n",
            "      |                 \u001b[01;31m\u001b[K^~~\u001b[m\u001b[K\n",
            "\u001b[01m\u001b[Kex02.cpp:6:13:\u001b[m\u001b[K \u001b[01;36m\u001b[Knote: \u001b[m\u001b[Kprevious declaration ‘\u001b[01m\u001b[KDayOfWeek TUE\u001b[m\u001b[K’\n",
            "    6 |   SUN, MON, \u001b[01;36m\u001b[KTUE\u001b[m\u001b[K, WED, THU, FRI, SAT\n",
            "      |             \u001b[01;36m\u001b[K^~~\u001b[m\u001b[K\n",
            "\u001b[01m\u001b[Kex02.cpp:10:22:\u001b[m\u001b[K \u001b[01;31m\u001b[Kerror: \u001b[m\u001b[K‘\u001b[01m\u001b[KWED\u001b[m\u001b[K’ conflicts with a previous declaration\n",
            "   10 |   SUN = 1, MON, TUE, \u001b[01;31m\u001b[KWED\u001b[m\u001b[K, THU, FRI, SAT\n",
            "      |                      \u001b[01;31m\u001b[K^~~\u001b[m\u001b[K\n",
            "\u001b[01m\u001b[Kex02.cpp:6:18:\u001b[m\u001b[K \u001b[01;36m\u001b[Knote: \u001b[m\u001b[Kprevious declaration ‘\u001b[01m\u001b[KDayOfWeek WED\u001b[m\u001b[K’\n",
            "    6 |   SUN, MON, TUE, \u001b[01;36m\u001b[KWED\u001b[m\u001b[K, THU, FRI, SAT\n",
            "      |                  \u001b[01;36m\u001b[K^~~\u001b[m\u001b[K\n",
            "\u001b[01m\u001b[Kex02.cpp:10:27:\u001b[m\u001b[K \u001b[01;31m\u001b[Kerror: \u001b[m\u001b[K‘\u001b[01m\u001b[KTHU\u001b[m\u001b[K’ conflicts with a previous declaration\n",
            "   10 |   SUN = 1, MON, TUE, WED, \u001b[01;31m\u001b[KTHU\u001b[m\u001b[K, FRI, SAT\n",
            "      |                           \u001b[01;31m\u001b[K^~~\u001b[m\u001b[K\n",
            "\u001b[01m\u001b[Kex02.cpp:6:23:\u001b[m\u001b[K \u001b[01;36m\u001b[Knote: \u001b[m\u001b[Kprevious declaration ‘\u001b[01m\u001b[KDayOfWeek THU\u001b[m\u001b[K’\n",
            "    6 |   SUN, MON, TUE, WED, \u001b[01;36m\u001b[KTHU\u001b[m\u001b[K, FRI, SAT\n",
            "      |                       \u001b[01;36m\u001b[K^~~\u001b[m\u001b[K\n",
            "\u001b[01m\u001b[Kex02.cpp:10:32:\u001b[m\u001b[K \u001b[01;31m\u001b[Kerror: \u001b[m\u001b[K‘\u001b[01m\u001b[KFRI\u001b[m\u001b[K’ conflicts with a previous declaration\n",
            "   10 |   SUN = 1, MON, TUE, WED, THU, \u001b[01;31m\u001b[KFRI\u001b[m\u001b[K, SAT\n",
            "      |                                \u001b[01;31m\u001b[K^~~\u001b[m\u001b[K\n",
            "\u001b[01m\u001b[Kex02.cpp:6:28:\u001b[m\u001b[K \u001b[01;36m\u001b[Knote: \u001b[m\u001b[Kprevious declaration ‘\u001b[01m\u001b[KDayOfWeek FRI\u001b[m\u001b[K’\n",
            "    6 |   SUN, MON, TUE, WED, THU, \u001b[01;36m\u001b[KFRI\u001b[m\u001b[K, SAT\n",
            "      |                            \u001b[01;36m\u001b[K^~~\u001b[m\u001b[K\n",
            "\u001b[01m\u001b[Kex02.cpp:10:37:\u001b[m\u001b[K \u001b[01;31m\u001b[Kerror: \u001b[m\u001b[K‘\u001b[01m\u001b[KSAT\u001b[m\u001b[K’ conflicts with a previous declaration\n",
            "   10 |   SUN = 1, MON, TUE, WED, THU, FRI, \u001b[01;31m\u001b[KSAT\u001b[m\u001b[K\n",
            "      |                                     \u001b[01;31m\u001b[K^~~\u001b[m\u001b[K\n",
            "\u001b[01m\u001b[Kex02.cpp:6:33:\u001b[m\u001b[K \u001b[01;36m\u001b[Knote: \u001b[m\u001b[Kprevious declaration ‘\u001b[01m\u001b[KDayOfWeek SAT\u001b[m\u001b[K’\n",
            "    6 |   SUN, MON, TUE, WED, THU, FRI, \u001b[01;36m\u001b[KSAT\u001b[m\u001b[K\n",
            "      |                                 \u001b[01;36m\u001b[K^~~\u001b[m\u001b[K\n",
            "\u001b[01m\u001b[Kex02.cpp:\u001b[m\u001b[K In function ‘\u001b[01m\u001b[Kint main()\u001b[m\u001b[K’:\n",
            "\u001b[01m\u001b[Kex02.cpp:18:27:\u001b[m\u001b[K \u001b[01;31m\u001b[Kerror: \u001b[m\u001b[Kcannot convert ‘\u001b[01m\u001b[KDayOfWeek\u001b[m\u001b[K’ to ‘\u001b[01m\u001b[KCustomDayOfWeek\u001b[m\u001b[K’ in initialization\n",
            "   18 |   CustomDayOfWeek a_day = \u001b[01;31m\u001b[KWED\u001b[m\u001b[K;\n",
            "      |                           \u001b[01;31m\u001b[K^~~\u001b[m\u001b[K\n",
            "      |                           \u001b[01;31m\u001b[K|\u001b[m\u001b[K\n",
            "      |                           \u001b[01;31m\u001b[KDayOfWeek\u001b[m\u001b[K\n",
            "/bin/bash: line 1: ./ex02: No such file or directory\n"
          ]
        }
      ]
    },
    {
      "cell_type": "markdown",
      "metadata": {
        "id": "GndQKP2mGbD1"
      },
      "source": [
        "But why are you getting these errors?\n",
        "\n",
        "It turns out that using the value `WED`, confuses the compiler because it does not know whether you meant `WED` from `DayOfWeek` or `WED` from `CustomDayOfWeek`. To fix this we use **scoped enumerations**, which is what modern C++ recommends.\n",
        "\n",
        "Here is what the fixed program (using scoped enumerations) looks like:"
      ]
    },
    {
      "cell_type": "code",
      "source": [
        "%%writefile ex02.cpp\n",
        "\n",
        "#include <iostream>\n",
        "using namespace std;\n",
        "\n",
        "enum class DayOfWeek {\n",
        "  SUN, MON, TUE, WED, THU, FRI, SAT\n",
        "};\n",
        "\n",
        "enum class CustomDayOfWeek {\n",
        "  SUN = 1, MON, TUE, WED, THU, FRI, SAT\n",
        "};\n",
        "\n",
        "\n",
        "int main(){\n",
        "  DayOfWeek tomorrow = DayOfWeek::WED;\n",
        "  cout << \"Tomorrow is: \" << static_cast<int>(tomorrow) << endl;\n",
        "\n",
        "  CustomDayOfWeek a_day = CustomDayOfWeek::WED;\n",
        "  cout << \"A day is: \" << static_cast<int>(a_day) << endl;\n",
        "\n",
        "  return 0;\n",
        "}"
      ],
      "metadata": {
        "id": "8OKe2Dn5CMnx",
        "outputId": "966d3012-39f3-4c36-fb0d-748c0cf2ab71",
        "colab": {
          "base_uri": "https://localhost:8080/"
        }
      },
      "execution_count": 28,
      "outputs": [
        {
          "output_type": "stream",
          "name": "stdout",
          "text": [
            "Overwriting ex02.cpp\n"
          ]
        }
      ]
    },
    {
      "cell_type": "code",
      "source": [
        "!g++ -std=c++17 ex02.cpp -o ex02\n",
        "!./ex02"
      ],
      "metadata": {
        "id": "_sVcNqaICNlL",
        "outputId": "fd9d0bf7-357e-4d35-a4cb-496987311393",
        "colab": {
          "base_uri": "https://localhost:8080/"
        }
      },
      "execution_count": 29,
      "outputs": [
        {
          "output_type": "stream",
          "name": "stdout",
          "text": [
            "Tomorrow is: 3\n",
            "A day is: 4\n"
          ]
        }
      ]
    },
    {
      "cell_type": "markdown",
      "source": [
        "Here we:\n",
        "* added the keyword `class` after `enum`.\n",
        "* used `static_cast<int>(tomorrow)` and `static_cast<int>(a_day)` instead of `tomorrow` and `a_day` respectively to force C++ to print the integer values of these days."
      ],
      "metadata": {
        "id": "02joubfYD_Em"
      }
    },
    {
      "cell_type": "markdown",
      "metadata": {
        "id": "jdNT4F_XGbD1"
      },
      "source": [
        "## Scoped enumerations\n",
        "To deal with the above ambiguity problems, C++11 introduced **scoped enumerations** which are the same as the above C-style enumerations, except that we'll always have to use the resolution operator `::` with their values. Here is how we define a scoped enumeration for days of the week. Notice the keyword `class` right after enum. This keyword makes this enumeration **scoped**.\n",
        "\n",
        "```cpp\n",
        "enum class WeekDay {\n",
        " MONDAY = 1, TUESDAY, WEDNESDAY, THURSDAY, FRIDAY\n",
        "};\n",
        "```\n",
        "\n",
        "By doing this, we can no longer use the names SUNDAY, WEDNESDAY, and so on, directly without `::` as in:\n",
        "\n",
        "```cpp\n",
        "WeekDay day = WEDNESDAY; // Gives an error\n",
        "```\n",
        "Instead we have to use the `::` resolution operator preceded with the enumeration name to properly qualify these values:\n",
        "```cpp\n",
        "WeekDay day = WeekDay::WEDNESDAY;\n",
        "```\n",
        "We saw this in the previous corrected program. This makes **scoped enumerations** safer to use. As a matter of fact, it is highly recommended that you use **scoped enumerations** over the C-style unscoped ones."
      ]
    },
    {
      "cell_type": "markdown",
      "metadata": {
        "id": "9A_0W_Y2GbD3"
      },
      "source": [
        "\n",
        "## CODING CHALLENGE 3\n",
        "\n",
        "In the program below, define a scoped enumeration for the money change (penny, nickel, dime, quarter). Then in the main function, define a variable named `change` and make it equal to a dime. By convention, use uppercase for values of the enumeration."
      ]
    },
    {
      "cell_type": "code",
      "execution_count": 30,
      "metadata": {
        "colab": {
          "base_uri": "https://localhost:8080/"
        },
        "id": "HBjhTXZaGbD3",
        "outputId": "b6c17c17-e64c-4d59-d3af-a5638eb99220"
      },
      "outputs": [
        {
          "output_type": "stream",
          "name": "stdout",
          "text": [
            "Overwriting ch03.cpp\n"
          ]
        }
      ],
      "source": [
        "%%writefile ch03.cpp\n",
        "\n",
        "#include <iostream>\n",
        "using namespace std;\n",
        "\n",
        "//TODO: define the Money enumeration here\n",
        "\n",
        "enum class Coin {\n",
        "    PENNY = 1, NICKEL = 5, DIME = 10, QUARTER = 25\n",
        "};\n",
        "\n",
        "int main(){\n",
        "  //TODO: define an enumeration variable named change here\n",
        "\n",
        "  Coin change = Coin::DIME;\n",
        "\n",
        "  return 0;\n",
        "}"
      ]
    },
    {
      "cell_type": "code",
      "execution_count": 31,
      "metadata": {
        "id": "nRcWfGBzGbD3"
      },
      "outputs": [],
      "source": [
        "!g++ -std=c++17 ch03.cpp -o ch03\n",
        "!./ch03"
      ]
    },
    {
      "cell_type": "markdown",
      "metadata": {
        "id": "1jp6fNhJGbD3"
      },
      "source": [
        "## Using enumerations\n",
        "Once we have enumeration variables, we can use them like any other integer values. For example, we can use them:\n",
        "\n",
        "* in `if-else` conditionals:\n",
        "\n",
        "  ```cpp\n",
        "  if(day == WeekDay::SATURDAY || day == WeekDay::SUNDAY){\n",
        "      cout << \"It is weekend\" << endl;\n",
        "  } else {\n",
        "      cout << \"It is a weekday\" << endl;\n",
        "  }\n",
        "  ```\n",
        "\n",
        "* or in a `switch` statement:\n",
        "\n",
        "  ```cpp\n",
        "  switch(day){\n",
        "      case WeekDay::MONDAY: cout <<  \"Monday\"; break;\n",
        "      case WeekDay::TUESDAY: cout <<  \"Tuesday\"; break;\n",
        "      case WeekDay::WEDNESDAY: cout <<  \"Wednesday\"; break;\n",
        "      case WeekDay::THURSDAY: cout <<  \"Thursday\"; break;\n",
        "      case WeekDay::FRIDAY: cout <<  \"Friday\"; break;\n",
        "  }\n",
        "  ```\n",
        "\n",
        "* or as an argument (parameter) to a function:\n",
        "\n",
        "  ```cpp\n",
        "  void namedWeekDay(WeekDay d){\n",
        "      switch(d){\n",
        "          case WeekDay::MONDAY: cout <<  \"Monday\"; break;\n",
        "          case WeekDay::TUESDAY: cout <<  \"Tuesday\"; break;\n",
        "          case WeekDay::WEDNESDAY: cout <<  \"Wednesday\"; break;\n",
        "          case WeekDay::THURSDAY: cout <<  \"Thursday\"; break;\n",
        "          case WeekDay::FRIDAY: cout <<  \"Friday\"; break;\n",
        "      }\n",
        "  }\n",
        "\n",
        "  ```\n",
        "  which allows us to print the day in a friendly way using something like this:\n",
        "\n",
        "  ```cpp\n",
        "  cout << \"day_2 is \";\n",
        "  namedWeekDay(day);\n",
        "  ```\n",
        "\n",
        "* or in the definition of a new structure:\n",
        "\n",
        "  ```cpp\n",
        "  enum class Bill {\n",
        "    HUNDRED = 100, FIFTY = 50,\n",
        "    TWENTY = 20, TEN = 10,\n",
        "    FIVE = 5, ONE = 1\n",
        "  };\n",
        "\n",
        "  struct Amount {\n",
        "    int number;\n",
        "    Bill kind;\n",
        "  };\n",
        "  ```\n",
        "\n",
        "  which allows us to express $100 as 5 twenty dollar bills.\n",
        "\n",
        "  ```cpp\n",
        "  Amount firstHundred = { 5, Bill::TWENTY };\n",
        "  ```"
      ]
    },
    {
      "cell_type": "markdown",
      "metadata": {
        "id": "kwJnXTYiGbD5"
      },
      "source": [
        "## CODING CHALLENGE 4\n",
        "\n",
        "In the program below, define five `Amount` variables each representing $100:\n",
        "1. 20 five-dollar bills;\n",
        "2. 100 one-dollar bills;\n",
        "3. 10 ten-dollar bills;\n",
        "4. 2 fifty-dollar bills; and\n",
        "5. 1 hundred-dollar bill."
      ]
    },
    {
      "cell_type": "code",
      "execution_count": 11,
      "metadata": {
        "colab": {
          "base_uri": "https://localhost:8080/"
        },
        "id": "g9KqPH8nGbD5",
        "outputId": "46e3b049-9895-4237-9d06-10a7246f7769"
      },
      "outputs": [
        {
          "output_type": "stream",
          "name": "stdout",
          "text": [
            "Writing ch04.cpp\n"
          ]
        }
      ],
      "source": [
        "%%writefile ch04.cpp\n",
        "\n",
        "#include <iostream>\n",
        "using namespace std;\n",
        "\n",
        "enum class Bill {\n",
        "  HUNDRED = 100, FIFTY = 50,\n",
        "  TWENTY = 20, TEN = 10,\n",
        "  FIVE = 5, ONE = 1\n",
        "};\n",
        "\n",
        "struct Amount {\n",
        "  int number;\n",
        "  Bill kind;\n",
        "};\n",
        "\n",
        "int main(){\n",
        "  //TODO\n",
        "\n",
        "  Amount fives = {20, Bill::FIVE};\n",
        "  Amount ones = {100, Bill::ONE};\n",
        "  Amount tens = {10, Bill::TEN};\n",
        "  Amount fifties = {2, Bill::FIFTY};\n",
        "  Amount hundreds = {1, Bill::HUNDRED};\n",
        "\n",
        "  return 0;\n",
        "}"
      ]
    },
    {
      "cell_type": "code",
      "source": [
        "!g++ -std=c++17 ch04.cpp -o ch04\n",
        "!./ch04"
      ],
      "metadata": {
        "id": "KVJ7_Uw1Kcla"
      },
      "execution_count": 13,
      "outputs": []
    },
    {
      "cell_type": "markdown",
      "metadata": {
        "id": "vjomtUqqGbD5"
      },
      "source": [
        "# Putting it all together: Structures and enumerations\n",
        "\n",
        "Let’s explore one final example that brings together everything we’ve learned so far: control structures, functions, references, structures, and enumerations. Take the time to study this example and understand how all its components work and fit together.\n",
        "\n",
        "In this example, we will create a structure to represent a specific local time of day. Each local time object will have four components (members): hour, minute, second, and whether it’s AM or PM. For AM and PM, we will use a scoped enumeration. The other members will be integers.\n",
        "\n",
        "This program will be built incrementally over multiple steps. To see the complete program, make sure to run all the code cells below in order. We’ll start by including the necessary header files in a program named `ex03`.\n"
      ]
    },
    {
      "cell_type": "code",
      "execution_count": 21,
      "metadata": {
        "colab": {
          "base_uri": "https://localhost:8080/"
        },
        "id": "fjO0OPtZGbD5",
        "outputId": "165b0392-a8d2-4cac-e669-23fb25b0c4f3"
      },
      "outputs": [
        {
          "output_type": "stream",
          "name": "stdout",
          "text": [
            "Overwriting ex03.cpp\n"
          ]
        }
      ],
      "source": [
        "%%writefile ex03.cpp\n",
        "\n",
        "#include <iostream>\n",
        "#include <string>\n",
        "#include <iomanip>\n",
        "\n",
        "using namespace std;"
      ]
    },
    {
      "cell_type": "markdown",
      "metadata": {
        "id": "SVG6z0EqGbD6"
      },
      "source": [
        "Next, let's define the enumeration needed to represent AM and PM. We'll call it `AMPM` for the lack of a better name. We'll add it to the `ex03.cpp` program we started above using the `-a` option of the `%%writefile` magic command."
      ]
    },
    {
      "cell_type": "code",
      "execution_count": 20,
      "metadata": {
        "colab": {
          "base_uri": "https://localhost:8080/"
        },
        "id": "oA8StetzGbD6",
        "outputId": "10dade06-954a-41b6-8bea-44393035bef1"
      },
      "outputs": [
        {
          "output_type": "stream",
          "name": "stdout",
          "text": [
            "Appending to ex03.cpp\n"
          ]
        }
      ],
      "source": [
        "%%writefile -a ex03.cpp\n",
        "\n",
        "enum class AMPM {\n",
        "    AM, PM\n",
        "};"
      ]
    },
    {
      "cell_type": "markdown",
      "metadata": {
        "id": "LCZ1zx1GGbD6"
      },
      "source": [
        "We now define the local time structure. To avoid conflicting with the `Time` structure you defined above, I'll call it `LocalTime`."
      ]
    },
    {
      "cell_type": "code",
      "execution_count": 19,
      "metadata": {
        "colab": {
          "base_uri": "https://localhost:8080/"
        },
        "id": "xk68DHEyGbD6",
        "outputId": "05da7db1-2c92-484f-ddd9-e9f06b7767da"
      },
      "outputs": [
        {
          "output_type": "stream",
          "name": "stdout",
          "text": [
            "Appending to ex03.cpp\n"
          ]
        }
      ],
      "source": [
        "%%writefile -a ex03.cpp\n",
        "\n",
        "struct LocalTime {\n",
        "    int hr, min, sec;\n",
        "    AMPM ampm;\n",
        "};"
      ]
    },
    {
      "cell_type": "markdown",
      "metadata": {
        "id": "0YL2kAofGbD6"
      },
      "source": [
        "We now define a function that takes a `LocalTime` object and displays it in a format like `01:23:36 PM`."
      ]
    },
    {
      "cell_type": "code",
      "execution_count": 18,
      "metadata": {
        "colab": {
          "base_uri": "https://localhost:8080/"
        },
        "id": "i1CBX78_GbD6",
        "outputId": "273e3c38-0fcd-4e5f-f092-9143b9b7d62e"
      },
      "outputs": [
        {
          "output_type": "stream",
          "name": "stdout",
          "text": [
            "Appending to ex03.cpp\n"
          ]
        }
      ],
      "source": [
        "%%writefile -a ex03.cpp\n",
        "\n",
        "void displayFormattedLocalTime(LocalTime t){\n",
        "    string am_or_pm;\n",
        "    switch(t.ampm){\n",
        "        case AMPM::AM:\n",
        "            am_or_pm = \" AM\";\n",
        "            break;\n",
        "        case AMPM::PM:\n",
        "            am_or_pm = \" PM\";\n",
        "            break;\n",
        "    }\n",
        "\n",
        "    cout << setfill('0')\n",
        "         << setw(2) << t.hr << ':'\n",
        "         << setw(2) << t.min << ':'\n",
        "         << setw(2) << t.sec\n",
        "         << am_or_pm;\n",
        "}"
      ]
    },
    {
      "cell_type": "markdown",
      "metadata": {
        "id": "cl3EmmxLGbD7"
      },
      "source": [
        "Notice the use `switch` statement with the `AMPM` enumeration to properly print out the AM/PM portion. Notice also the use of `setfill('0')` which forces `setw` to use leading 0's instead of spaces (which is useful for printing time components). You will need to include the `<iomanip>` header file to use `setfill` and `setw`.\n",
        "\n",
        "Let's define two other functions for telling whether a given `LocalTime` object is morning or evening."
      ]
    },
    {
      "cell_type": "code",
      "execution_count": 17,
      "metadata": {
        "colab": {
          "base_uri": "https://localhost:8080/"
        },
        "id": "LVmyjaaHGbD7",
        "outputId": "22800619-174b-47e1-8819-dfe837c8f3f3"
      },
      "outputs": [
        {
          "output_type": "stream",
          "name": "stdout",
          "text": [
            "Appending to ex03.cpp\n"
          ]
        }
      ],
      "source": [
        "%%writefile -a ex03.cpp\n",
        "\n",
        "bool isMorningTime(LocalTime t){\n",
        "    switch(t.ampm){\n",
        "        case AMPM::AM:\n",
        "            return true;\n",
        "        default:\n",
        "            return false;\n",
        "    }\n",
        "}"
      ]
    },
    {
      "cell_type": "code",
      "execution_count": 16,
      "metadata": {
        "colab": {
          "base_uri": "https://localhost:8080/"
        },
        "id": "lBrC-ZEDGbD7",
        "outputId": "ca9d9b0f-893a-482e-89e2-d91a65a21ce1"
      },
      "outputs": [
        {
          "output_type": "stream",
          "name": "stdout",
          "text": [
            "Appending to ex03.cpp\n"
          ]
        }
      ],
      "source": [
        "%%writefile -a ex03.cpp\n",
        "\n",
        "bool isEveningTime(LocalTime t){\n",
        "    return !isMorningTime(t); // The opposite of isMorningTime\n",
        "}"
      ]
    },
    {
      "cell_type": "markdown",
      "metadata": {
        "id": "z96mDXIKGbD7"
      },
      "source": [
        "All the above functions are read-only; they read the information of the given `LocalTime` object and do something with it, but they do not change it.\n",
        "\n",
        "For a function to be able to change the values of the members of a `LocalTime` object, that object has to be passed to the function as a reference. Here is a function that changes the current AMPM of a given `LocalTime` to `AM` if it was `PM` and vice versa."
      ]
    },
    {
      "cell_type": "code",
      "execution_count": 15,
      "metadata": {
        "colab": {
          "base_uri": "https://localhost:8080/"
        },
        "id": "qQ5WpYRVGbD7",
        "outputId": "86793f4a-153f-4517-be9f-35ccde12fce4"
      },
      "outputs": [
        {
          "output_type": "stream",
          "name": "stdout",
          "text": [
            "Appending to ex03.cpp\n"
          ]
        }
      ],
      "source": [
        "%%writefile -a ex03.cpp\n",
        "\n",
        "void changeAMPM(LocalTime& t){\n",
        "    switch(t.ampm){\n",
        "        case AMPM::AM:\n",
        "            t.ampm = AMPM::PM;\n",
        "            break;\n",
        "        default:\n",
        "            t.ampm = AMPM::AM;\n",
        "    }\n",
        "}"
      ]
    },
    {
      "cell_type": "markdown",
      "metadata": {
        "id": "EC4VV3k-GbD7"
      },
      "source": [
        "Notice the `&` in `LocalTime& t`. That makes `t` a reference which means it can be changed inside the function.\n",
        "\n",
        "Similarly, let's define a function that prompts and reads the members of a `LocalTime` object from the keyboard."
      ]
    },
    {
      "cell_type": "code",
      "execution_count": 14,
      "metadata": {
        "colab": {
          "base_uri": "https://localhost:8080/"
        },
        "id": "40F0ricyGbD7",
        "outputId": "5d3b53c0-4c52-4709-f3ce-1e71463eeff1"
      },
      "outputs": [
        {
          "output_type": "stream",
          "name": "stdout",
          "text": [
            "Writing ex03.cpp\n"
          ]
        }
      ],
      "source": [
        "%%writefile -a ex03.cpp\n",
        "\n",
        "void promptAndRead(LocalTime& t){\n",
        "    char c; // For reading the ':' characters\n",
        "    string am_or_pm;\n",
        "\n",
        "    cout << \"Enter local time in the format 'HH:MM:SS AM': \" << endl;\n",
        "    cin >> t.hr >> c >> t.min >> c >> t.sec >> am_or_pm;\n",
        "\n",
        "    if(am_or_pm == \"PM\") t.ampm = AMPM::PM;\n",
        "    else t.ampm = AMPM::AM;\n",
        "}"
      ]
    },
    {
      "cell_type": "markdown",
      "metadata": {
        "id": "HP_kSRLrGbD8"
      },
      "source": [
        "Having done all that, we can now test our example by creating multiple `LocalTime` objects (some hard-coded and some based on user input) and calling the above functions on them."
      ]
    },
    {
      "cell_type": "code",
      "execution_count": 22,
      "metadata": {
        "colab": {
          "base_uri": "https://localhost:8080/"
        },
        "id": "NX-HWyJeGbD8",
        "outputId": "541b2a87-153d-46e9-8956-57ae542a5074"
      },
      "outputs": [
        {
          "output_type": "stream",
          "name": "stdout",
          "text": [
            "Appending to ex03.cpp\n"
          ]
        }
      ],
      "source": [
        "%%writefile -a ex03.cpp\n",
        "\n",
        "int main(){\n",
        "  LocalTime midnight = { 12, 0, 0, AMPM::AM };\n",
        "  LocalTime noonTime { 12, 0, 0, AMPM::PM};\n",
        "  LocalTime anyTime;\n",
        "  promptAndRead(anyTime);\n",
        "\n",
        "  // Display these times\n",
        "  cout << \"Midnight: \";\n",
        "  displayFormattedLocalTime(midnight);\n",
        "  cout << \"\\n  Is morning? \" << isMorningTime(midnight) << endl;\n",
        "\n",
        "  cout << \"Noon Time: \";\n",
        "  displayFormattedLocalTime(noonTime);\n",
        "  cout << \"\\n  Is morning? \" << isMorningTime(noonTime) << endl;\n",
        "\n",
        "  cout << \"Entered time: \";\n",
        "  displayFormattedLocalTime(anyTime);\n",
        "  cout << \"\\n  Is morning? \" << isMorningTime(anyTime) << endl;\n",
        "\n",
        "  // Change the AM/PM of these time and display them again\n",
        "  changeAMPM(midnight);\n",
        "  changeAMPM(noonTime);\n",
        "  changeAMPM(anyTime);\n",
        "\n",
        "  cout << \"Midnight (after am/pm change): \";\n",
        "  displayFormattedLocalTime(midnight);\n",
        "  cout << \"\\n  Is morning? \" << isMorningTime(midnight) << endl;\n",
        "\n",
        "  cout << \"Noon Time (after am/pm change): \";\n",
        "  displayFormattedLocalTime(noonTime);\n",
        "  cout << \"\\n  Is morning? \" << isMorningTime(noonTime) << endl;\n",
        "\n",
        "  cout << \"Entered Time (after am/pm change): \";\n",
        "  displayFormattedLocalTime(anyTime);\n",
        "\n",
        "  cout << \"\\n  Is morning? \" << isMorningTime(anyTime) << endl;\n",
        "\n",
        "  return 0;\n",
        "}"
      ]
    },
    {
      "cell_type": "markdown",
      "source": [
        "Now that this program is done, let's display it:"
      ],
      "metadata": {
        "id": "YBAq4qNkNl0O"
      }
    },
    {
      "cell_type": "code",
      "source": [
        "!cat ex03.cpp"
      ],
      "metadata": {
        "id": "Rmc9zg6sNv3s",
        "outputId": "b0290141-3947-49b8-e939-9d9b8aa78faa",
        "colab": {
          "base_uri": "https://localhost:8080/"
        }
      },
      "execution_count": 23,
      "outputs": [
        {
          "output_type": "stream",
          "name": "stdout",
          "text": [
            "\n",
            "#include <iostream>\n",
            "#include <string>\n",
            "#include <iomanip>\n",
            "\n",
            "using namespace std;\n",
            "\n",
            "int main(){\n",
            "  LocalTime midnight = { 12, 0, 0, AMPM::AM };\n",
            "  LocalTime noonTime { 12, 0, 0, AMPM::PM};\n",
            "  LocalTime anyTime;\n",
            "  promptAndRead(anyTime);\n",
            "\n",
            "  // Display these times\n",
            "  cout << \"Midnight: \";\n",
            "  displayFormattedLocalTime(midnight);\n",
            "  cout << \"\\n  Is morning? \" << isMorningTime(midnight) << endl;\n",
            "\n",
            "  cout << \"Noon Time: \";\n",
            "  displayFormattedLocalTime(noonTime);\n",
            "  cout << \"\\n  Is morning? \" << isMorningTime(noonTime) << endl;\n",
            "\n",
            "  cout << \"Entered time: \";\n",
            "  displayFormattedLocalTime(anyTime);\n",
            "  cout << \"\\n  Is morning? \" << isMorningTime(anyTime) << endl;\n",
            "\n",
            "  // Change the AM/PM of these time and display them again\n",
            "  changeAMPM(midnight);\n",
            "  changeAMPM(noonTime);\n",
            "  changeAMPM(anyTime);\n",
            "\n",
            "  cout << \"Midnight (after am/pm change): \";\n",
            "  displayFormattedLocalTime(midnight);\n",
            "  cout << \"\\n  Is morning? \" << isMorningTime(midnight) << endl;\n",
            "\n",
            "  cout << \"Noon Time (after am/pm change): \";\n",
            "  displayFormattedLocalTime(noonTime);\n",
            "  cout << \"\\n  Is morning? \" << isMorningTime(noonTime) << endl;\n",
            "\n",
            "  cout << \"Entered Time (after am/pm change): \";\n",
            "  displayFormattedLocalTime(anyTime);\n",
            "\n",
            "  cout << \"\\n  Is morning? \" << isMorningTime(anyTime) << endl;\n",
            "\n",
            "  return 0;\n",
            "}\n"
          ]
        }
      ]
    },
    {
      "cell_type": "markdown",
      "source": [
        "Next we compile it and run it:"
      ],
      "metadata": {
        "id": "eBeo7MULN3qt"
      }
    },
    {
      "cell_type": "code",
      "source": [
        "!g++ -std=c++17 ex03.cpp -o ex03\n",
        "!./ex03"
      ],
      "metadata": {
        "id": "gzad3NwhN7x3",
        "outputId": "a411f38e-7c88-43e4-b26e-6c54cb8f606c",
        "colab": {
          "base_uri": "https://localhost:8080/"
        }
      },
      "execution_count": null,
      "outputs": [
        {
          "output_type": "stream",
          "name": "stdout",
          "text": [
            "Enter local time in the format 'HH:MM:SS AM': \n",
            "8:46:17 PM\n",
            "Midnight: 12:00:00 AM\n",
            "  Is morning? 1\n",
            "Noon Time: 12:00:00 PM\n",
            "  Is morning? 0\n",
            "Entered time: 08:46:17 PM\n",
            "  Is morning? 0\n",
            "Midnight (after am/pm change): 12:00:00 PM\n",
            "  Is morning? 0\n",
            "Noon Time (after am/pm change): 12:00:00 AM\n",
            "  Is morning? 1\n",
            "Entered Time (after am/pm change): 08:46:17 AM\n",
            "  Is morning? 1\n"
          ]
        }
      ]
    }
  ],
  "metadata": {
    "kernelspec": {
      "display_name": "C++14",
      "language": "C++14",
      "name": "xcpp14"
    },
    "language_info": {
      "codemirror_mode": "text/x-c++src",
      "file_extension": ".cpp",
      "mimetype": "text/x-c++src",
      "name": "c++",
      "version": "14"
    },
    "colab": {
      "provenance": [],
      "toc_visible": true
    }
  },
  "nbformat": 4,
  "nbformat_minor": 0
}