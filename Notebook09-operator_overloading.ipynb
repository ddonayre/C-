{
  "cells": [
    {
      "cell_type": "markdown",
      "metadata": {
        "id": "NmHk8qX2Cy0O"
      },
      "source": [
        "<a target=\"_blank\" href=\"https://colab.research.google.com/github/WSU-CS1410-AA/cs1410-notebooks/blob/main/Notebook09-operator_overloading.ipynb\">\n",
        "  <img src=\"https://colab.research.google.com/assets/colab-badge.svg\" alt=\"Open In Colab\"/>\n",
        "</a>"
      ]
    },
    {
      "cell_type": "markdown",
      "metadata": {
        "id": "HuAPREcZCy0V"
      },
      "source": [
        "\n",
        "# Operator Overloading\n",
        "\n",
        "Early on in this course, we learned about the basic (primitive) data types that C++ supports such as `int`, `short`, `long`, `double`, and `float`. These data types support  certain operators such as `+`, `-`, `*`, and `/`, and `%` which allow us to do something like this:\n",
        "\n",
        "```cpp\n",
        "cout << 6 + 7   << endl   // 13\n",
        "     << 6 - 5   << endl   // 1\n",
        "     << 4 * 3   << endl   // 12\n",
        "     << 7 / 2   << endl   // 3\n",
        "     << 7 % 2   << endl   // 1\n",
        "     << 7 / 2.0 << endl;  // 3.5\n",
        "```"
      ]
    },
    {
      "cell_type": "markdown",
      "metadata": {
        "id": "_aqOxjSTCy0X"
      },
      "source": [
        "These basic types also support:\n",
        "* relational operators such as `<`, `>`, `<=`, `>=`, `==`, and `!=`:\n",
        "\n",
        "```cpp\n",
        "cout << (6 < 7) << endl         // 1\n",
        "     << (7 > 5) << endl         // 1\n",
        "     << (4 >= 3) << endl        // 1\n",
        "     << (2 <= 7) << endl        // 1\n",
        "     << (9 == 9) << endl        // 1\n",
        "     << (7.1 != 2.0) << endl;   // 1\n",
        "```"
      ]
    },
    {
      "cell_type": "markdown",
      "metadata": {
        "id": "lJtwZetRCy0Y"
      },
      "source": [
        "* logical operators such as `&&` (AND), `||` (OR), and `!` (NOT):\n",
        "```cpp\n",
        "int x = 4;\n",
        "cout << (x < 7 || x > 5) << endl;\n",
        "cout << (x != 5 && x != 7) << endl;\n",
        "\n",
        "```"
      ]
    },
    {
      "cell_type": "markdown",
      "metadata": {
        "id": "qO0tmSOZCy0Z"
      },
      "source": [
        "* assignment operators:\n",
        "\n",
        "```cpp\n",
        "int ans = 27;\n",
        "\n",
        "ans += 10;\n",
        "cout << ans << \", \";\n",
        "ans -= 7;\n",
        "cout << ans << \", \";\n",
        "ans *= 2;\n",
        "cout << ans << \", \";\n",
        "ans /= 3;\n",
        "cout << ans << \", \";\n",
        "ans %= 3;\n",
        "cout << ans << endl;\n",
        "```"
      ]
    },
    {
      "cell_type": "markdown",
      "metadata": {
        "id": "8YGDqtRuCy0Z"
      },
      "source": [
        "* increment/decrement `--`/`++` operators:\n",
        "\n",
        "```cpp\n",
        "int count = 10;\n",
        "\n",
        "cout << \"count=\" << count++ << endl;  // count=10\n",
        "cout << \"count=\" << --count << endl;  // count=10\n",
        "cout << \"count=\" << count-- << endl;  // count=10\n",
        "cout << \"count=\" << count << endl;    // count=9\n",
        "```"
      ]
    },
    {
      "cell_type": "markdown",
      "metadata": {
        "id": "KTE7pJ-LCy0a"
      },
      "source": [
        "* output/input `<<`/`>>` operators:\n",
        "\n",
        "```cpp\n",
        "double num;\n",
        "cout << \"Enter a number:\" << endl;\n",
        "cin >> num;\n",
        "cout << num;\n",
        "```"
      ]
    },
    {
      "cell_type": "markdown",
      "metadata": {
        "id": "-e4CTgPxCy0a"
      },
      "source": [
        "* indexing operator `[]` for arrays of these types:\n",
        "\n",
        "```cpp\n",
        "char vowels[] = { 'a', 'e', 'i', 'o', 'u' };\n",
        "cout << vowels[0] << endl;\n",
        "cout << vowels[4] << endl;\n",
        "```"
      ]
    },
    {
      "cell_type": "markdown",
      "metadata": {
        "id": "wsyvx8oOCy0b"
      },
      "source": [
        "The great thing about these operators is that they make using integers and decimals easy and efficient. The question is can we use these operators with objects of our own classes. For example, given two distance objects:\n",
        "\n",
        "```c++\n",
        "Distance d1, d2;\n",
        "```\n",
        "can we do:\n",
        "\n",
        "```c++\n",
        "Distance d3 = d1 + d2;\n",
        "```\n",
        "instead of:\n",
        "\n",
        "```c++\n",
        "Distance d3 = Distance.add(d1, d2);\n",
        "```\n",
        "The answer is: YES, we can, BUT we have to tell the C++ compiler what these operators (`+` in this example) do to objects of our own classes. C++ calls this **operator overloading**, and being able to overload operators sets C++ apart from many languages and gives a lot of power and flexibility.\n",
        "\n",
        "Overloading operators involves thinking of them as functions. For example, having two objects `a` and `b` we can think of the expression `a + b` as `a.operator+(b)`. Similarly the unary operator `++a` can be thought of as `a.operator++()`. Here `operator+` and `operator++` are treated like member class functions.\n",
        "\n",
        "We can also think of the expression `cout << a` as `operator<<(cout, a)`. Similarly `cout >> b` can be thought of as `operator<<(cin, b)`. These last two expressions are different in the sense that they involve not only our own objects (`a` and `b`) but also `cin` and `cout` which we are using for input/output but are not owers to change. Hence `operator<<` and `operator>>` are treated as simple non-class functions (that, as we will see later, are **friendly** to the classes of objects `a` and `b`).\n",
        "\n",
        "### CODING CHALLENGE 1\n",
        "Within the multi-line comment in the code cell below, think of the following operators as functions and write down what these functions would like. See the first example.\n",
        "\n",
        "```c++\n",
        "t || f\n",
        "--count\n",
        "!b\n",
        "a += 3\n",
        "n <= m\n",
        "cin >> x\n",
        "cout << y\n",
        "```"
      ]
    },
    {
      "cell_type": "code",
      "execution_count": 7,
      "metadata": {
        "id": "Iyo-HlbkCy0b",
        "outputId": "000167a0-8a2d-4bca-d5a3-d22aa4d104f4",
        "colab": {
          "base_uri": "https://localhost:8080/"
        }
      },
      "outputs": [
        {
          "output_type": "stream",
          "name": "stdout",
          "text": [
            "Writing ch01.cpp\n"
          ]
        }
      ],
      "source": [
        "%%writefile ch01.cpp\n",
        "\n",
        "/* TODO\n",
        "\n",
        "t.operator||(f)\n",
        "count.operator--()\n",
        "b.operator!()\n",
        "a.operator+=(3)\n",
        "n.operator<=(m)\n",
        "cin.operator>>(x)\n",
        "cout.operator<<(y)\n",
        "\n",
        "*/"
      ]
    },
    {
      "cell_type": "markdown",
      "metadata": {
        "id": "3UN20QXFCy0c"
      },
      "source": [
        "## Two ways to overload operators\n",
        "\n",
        "C++ gives us two ways to overload operators in our classes:\n",
        "* using member functions\n",
        "* Using friend functions. These are regular functions marked as *friends* to give them access to the private and protected members of the class.\n",
        "\n",
        "Let us go through an example, first. Here we have a class like this:"
      ]
    },
    {
      "cell_type": "code",
      "execution_count": 8,
      "metadata": {
        "id": "FqPQaZJwCy0c",
        "outputId": "e81842f8-7c9d-4887-c0af-93d951520085",
        "colab": {
          "base_uri": "https://localhost:8080/"
        }
      },
      "outputs": [
        {
          "output_type": "stream",
          "name": "stdout",
          "text": [
            "Writing ex01.cpp\n"
          ]
        }
      ],
      "source": [
        "%%writefile ex01.cpp\n",
        "\n",
        "#include <iostream>\n",
        "\n",
        "using namespace std;\n",
        "\n",
        "// Version 1\n",
        "class Counter {\n",
        "private:\n",
        "     int count;\n",
        "     int initial;\n",
        "protected:\n",
        "     int step;\n",
        "public:\n",
        "    Counter(int i): initial(i), count(i), step(1){}\n",
        "    int next(){ return count += step; }\n",
        "    int prev(){ return count -= step; }\n",
        "    int current(){ return count; }\n",
        "    void reset(){ count = initial; }\n",
        "};"
      ]
    },
    {
      "cell_type": "markdown",
      "metadata": {
        "id": "w8WRRpUrCy0c"
      },
      "source": [
        "And we think it makes sense to use the operator ++ to mean `next()` and -- to mean `prev()` and would like the following code to work. Right now it does not. Uncomment the following code cell to see what kind of errors you are getting."
      ]
    },
    {
      "cell_type": "code",
      "execution_count": 9,
      "metadata": {
        "scrolled": false,
        "id": "bnk1IQgTCy0c",
        "outputId": "31843aca-8963-46da-d9de-8e98afdf2e9f",
        "colab": {
          "base_uri": "https://localhost:8080/"
        }
      },
      "outputs": [
        {
          "output_type": "stream",
          "name": "stdout",
          "text": [
            "Appending to ex01.cpp\n"
          ]
        }
      ],
      "source": [
        "%%writefile -a ex01.cpp\n",
        "\n",
        "int main(){\n",
        "  /*\n",
        "  Counter c(0);\n",
        "  ++c; // equivalent ot calling c.next()\n",
        "  cout << c; // Prints the current value of the counter\n",
        "  --c; // equivalent to calling c.prev()\n",
        "  cout << c;\n",
        "  */\n",
        "\n",
        "  return 0;\n",
        "}"
      ]
    },
    {
      "cell_type": "code",
      "source": [
        "!g++ -std=c++17 ex01.cpp -o ex01\n",
        "!./ex01"
      ],
      "metadata": {
        "id": "4xTC7sLJFzIr"
      },
      "execution_count": null,
      "outputs": []
    },
    {
      "cell_type": "markdown",
      "metadata": {
        "id": "eiG0gXNFCy0c"
      },
      "source": [
        "To make operators `++`, `--`, and `<<` work for counter objects, the `Counter` class must overload these operators\n",
        "\n",
        "From the above coding challenge, we can think of these operators as functions like this:\n",
        "* `++c` is equivalent to `c.operator++()`\n",
        "* `--c` is equivalent to `c.operator--()`\n",
        "* `cout << c` is equivalent to `operator++(cout, c)`\n",
        "\n",
        "Now we look at the leftmost operands for these operators. For both `++` and `--`, `c`,  which is a `Counter` object, is the leftmost operand. For the `<<` operand,  `cout` is leftmost operand.\n",
        "\n",
        "Because the object `c` belongs to our own `Counter` class and we can easily add functions to it, we use member functions to overload the `++` and `--` operators.\n",
        "\n",
        "On the other side, `cout` is an output stream object of a class given to us by the C++ standard library to which we cannot add member functions. Therefore we use a friend function instead to overload the `<<` operator.\n",
        "\n",
        "In C++, all operator-overloading functions (member or friend) must have a name that starts with the keyword `operator` followed by the operator symbol(s).\n",
        "\n",
        "Here is the `Counter` class after overloading the `++`, `--`, and `<<` operators."
      ]
    },
    {
      "cell_type": "code",
      "execution_count": 10,
      "metadata": {
        "id": "roPzBhVxCy0d",
        "outputId": "d6c0e337-2c3c-4f5d-a130-435ea1beb350",
        "colab": {
          "base_uri": "https://localhost:8080/"
        }
      },
      "outputs": [
        {
          "output_type": "stream",
          "name": "stdout",
          "text": [
            "Writing ex02.cpp\n"
          ]
        }
      ],
      "source": [
        "%%writefile ex02.cpp\n",
        "\n",
        "#include <iostream>\n",
        "\n",
        "using namespace std;\n",
        "\n",
        "// Version 2\n",
        "class Counter {\n",
        "private:\n",
        "     int count;\n",
        "     int initial;\n",
        "protected:\n",
        "     int step;\n",
        "public:\n",
        "    Counter(int i): initial(i), count(i), step(1){}\n",
        "    int next(){ return count += step; }\n",
        "    int prev(){ return count -= step; }\n",
        "    int current(){ return count; }\n",
        "    void reset(){ count = initial; }\n",
        "\n",
        "    int operator++(){ return next(); } // Overloads prefix ++\n",
        "    int operator--(){ return prev(); } // Overloads prefix --\n",
        "\n",
        "    friend ostream& operator<<(ostream& out, Counter& c){ // Overloads <<\n",
        "        out << c.count << endl;\n",
        "        return out;\n",
        "    }\n",
        "};"
      ]
    },
    {
      "cell_type": "markdown",
      "metadata": {
        "id": "QwlsRPniCy0d"
      },
      "source": [
        "Having these operator functions tells the C++ compiler what to do when it sees these the `++`, `--`, and `<<` operators used for objects of the `Counter` class. In other words, we can now run the following code without errors:"
      ]
    },
    {
      "cell_type": "code",
      "execution_count": 11,
      "metadata": {
        "id": "VGV6OV4eCy0d",
        "outputId": "6e7b781c-aa01-4109-e47c-213033849123",
        "colab": {
          "base_uri": "https://localhost:8080/"
        }
      },
      "outputs": [
        {
          "output_type": "stream",
          "name": "stdout",
          "text": [
            "Appending to ex02.cpp\n"
          ]
        }
      ],
      "source": [
        "%%writefile -a ex02.cpp\n",
        "\n",
        "int main(){\n",
        "  Counter c(0);\n",
        "  ++c; // equivalent ot calling c.next()\n",
        "  cout << c; // Prints the current value of the counter\n",
        "  --c; // equivalent to calling c.prev()\n",
        "  cout << c;\n",
        "\n",
        "  return 0;\n",
        "}"
      ]
    },
    {
      "cell_type": "code",
      "source": [
        "!g++ -std=c++17 ex02.cpp -o ex02\n",
        "!./ex02"
      ],
      "metadata": {
        "id": "M6p5kHnVG_86",
        "outputId": "05658cae-4f06-4648-de59-d5a924e63f61",
        "colab": {
          "base_uri": "https://localhost:8080/"
        }
      },
      "execution_count": 12,
      "outputs": [
        {
          "output_type": "stream",
          "name": "stdout",
          "text": [
            "1\n",
            "0\n"
          ]
        }
      ]
    },
    {
      "cell_type": "markdown",
      "metadata": {
        "id": "1ZQ0tD-SCy0d"
      },
      "source": [
        "We must keep in mind that a **friend function** is not a member function even if the friend function is defined inside the class. It's just a regular function designated as a friend. Being a friend allows the function to access the private and protected members of this class's objects. In the `Counter` class, the `operator<<` function, being a friend of the `Counter` class, is able to access the private member `count` of the `c` object of the `Counter` class.\n",
        "\n",
        "To summarize, when overloading an operator we need to think of it as a function and find out its leftmost operand:\n",
        "* If the leftmost operand is an object of the class we are overloading, then use a member function\n",
        "* If the leftmost operand is not an object of the class we are overloading, then use a friend function.\n",
        "\n",
        "Pay attention to the signature of the friend `operator<<` function. It's a pattern that is repeated every time you want your object to work with `cout`. There is a similar pattern for `operator>>` which is used to make your object work with `cin`.\n",
        "\n",
        "Let us create another counter class by overloading four more operators:\n",
        "* the `+` operator such that `c + 5` means add 5 to c's count.\n",
        "* the `-` operator such that `c - 6` means subtract 6 from c's count.\n",
        "* the `==` operator such that `c1 == c2` returns true if `c1` has the same values for count, step, and initial as those of `c2`. It returns false otherwise.\n",
        "* the `!=` operator which is the opposite of `==`.\n",
        "* the `>>` operator such that `cin >> c` prompts the user to enter three integers: one for initial, another for count, and the last for step.\n",
        "\n",
        "Here is the new  counter class."
      ]
    },
    {
      "cell_type": "code",
      "execution_count": 13,
      "metadata": {
        "id": "rwnx3I8ACy0e",
        "outputId": "4845f81d-811e-40ff-e513-6f471985c510",
        "colab": {
          "base_uri": "https://localhost:8080/"
        }
      },
      "outputs": [
        {
          "output_type": "stream",
          "name": "stdout",
          "text": [
            "Writing ex03.cpp\n"
          ]
        }
      ],
      "source": [
        "%%writefile ex03.cpp\n",
        "\n",
        "#include <iostream>\n",
        "\n",
        "using namespace std;\n",
        "\n",
        "// Version 3\n",
        "class Counter {\n",
        "private:\n",
        "     int count;\n",
        "     int initial;\n",
        "protected:\n",
        "     int step;\n",
        "public:\n",
        "    Counter(int i): initial(i), count(i), step(1){}\n",
        "    int next(){ return count += step; }\n",
        "    int prev(){ return count -= step; }\n",
        "    int current(){ return count; }\n",
        "    void reset(){ count = initial; }\n",
        "\n",
        "    int operator++(){ return next(); } // Overloads prefix ++\n",
        "    int operator--(){ return prev(); } // Overloads prefix --\n",
        "\n",
        "    friend ostream& operator<<(ostream& out, Counter& c){ // Overloads <<\n",
        "        out << c.count;\n",
        "        return out;\n",
        "    }\n",
        "\n",
        "    // The new five operators\n",
        "    void operator+(int n){ count += n; }\n",
        "    void operator-(int n){ count -= n; }\n",
        "    bool operator==(Counter& c){\n",
        "        return this->initial == c.initial && this->count == c.count && this->step == c.step;\n",
        "    }\n",
        "    bool operator!=(Counter& c) { return !(*this == c); }\n",
        "    friend istream& operator>>(istream& in, Counter& c){\n",
        "        cout << \"Enter counter initial, count, and step: \";\n",
        "        in >> c.initial >>  c.count >> c.step;\n",
        "        return in;\n",
        "    }\n",
        "};"
      ]
    },
    {
      "cell_type": "markdown",
      "metadata": {
        "id": "ac3powUuCy0e"
      },
      "source": [
        "which allows us to run something like this:"
      ]
    },
    {
      "cell_type": "code",
      "execution_count": 14,
      "metadata": {
        "scrolled": true,
        "id": "YAcgCYnOCy0e",
        "outputId": "8d4fcf9a-ab4c-44ce-a767-26e57d80ca9c",
        "colab": {
          "base_uri": "https://localhost:8080/"
        }
      },
      "outputs": [
        {
          "output_type": "stream",
          "name": "stdout",
          "text": [
            "Appending to ex03.cpp\n"
          ]
        }
      ],
      "source": [
        "%%writefile -a ex03.cpp\n",
        "\n",
        "int main(){\n",
        "  Counter c3(0);\n",
        "  cin >> c3;\n",
        "  cout << c3 << endl;\n",
        "  ++c3;\n",
        "  cout << c3 << endl;\n",
        "  c3 + 9;\n",
        "  cout << c3 << endl;\n",
        "  --c3;\n",
        "  cout << c3 << endl;\n",
        "  c3 - 2;\n",
        "  cout << (c3 == c3) << endl;\n",
        "  cout << (c3 != c3) << endl;\n",
        "\n",
        "  return 0;\n",
        "}"
      ]
    },
    {
      "cell_type": "code",
      "source": [
        "!g++ -std=c++17 ex03.cpp -o ex03\n",
        "!./ex03"
      ],
      "metadata": {
        "id": "vWVEUk28HpV6",
        "outputId": "01da7a49-d666-46fc-fc7d-6e089c7f2e0c",
        "colab": {
          "base_uri": "https://localhost:8080/"
        }
      },
      "execution_count": 15,
      "outputs": [
        {
          "output_type": "stream",
          "name": "stdout",
          "text": [
            "Enter counter initial, count, and step: ^C\n"
          ]
        }
      ]
    },
    {
      "cell_type": "markdown",
      "metadata": {
        "id": "Ig9m6ZsDCy0e"
      },
      "source": [
        "## CODING CHALLENGE 2\n",
        "\n",
        "Refactor (modify) the class below so as to overload (implement) the following operators:\n",
        "* the `>>` operator such that `cin >> d` prompts the user to enter two integers: feet and inches.\n",
        "* the `<<` operator such that `cout << d` prints out the distance `d` in a format like this: `12' 3\"`.\n",
        "* the `+` operator such that `d + 5` means add 5 feed to d.\n",
        "* the `--` operator such that `--d` means subtract d's fee by 1 foot.\n",
        "* the `==` operator such that `d1 == d2` returns true if `d1` has the same feet and inches as `d2`.\n",
        "\n",
        "In the `main` function , create two distance objects `d1` and `d2` and use them to call and test all the five overloaded operators."
      ]
    },
    {
      "cell_type": "code",
      "execution_count": 18,
      "metadata": {
        "id": "HdX4cx2OCy0f",
        "outputId": "80857e45-b4df-45c8-fe36-03deb4077f43",
        "colab": {
          "base_uri": "https://localhost:8080/"
        }
      },
      "outputs": [
        {
          "output_type": "stream",
          "name": "stdout",
          "text": [
            "Overwriting ch02.cpp\n"
          ]
        }
      ],
      "source": [
        "%%writefile ch02.cpp\n",
        "\n",
        "#include <iostream>\n",
        "using namespace std;\n",
        "\n",
        "class Distance{\n",
        "\n",
        "private:\n",
        "    int feet;\n",
        "    int inches;\n",
        "\n",
        "public:\n",
        "    Distance(): feet(0), inches(0){}\n",
        "    Distance(int feet, int inches): feet(feet), inches(inches){}\n",
        "    Distance& add(const Distance& d){\n",
        "        this->feet += d.feet + (this->inches + d.inches) / 12;\n",
        "        this->inches = (this->inches + d.inches) % 12;\n",
        "        return *this;\n",
        "    }\n",
        "    Distance& add(int feet){\n",
        "        this->feet += feet;\n",
        "        return *this;\n",
        "    }\n",
        "    Distance& add(int feet, int inches){\n",
        "        this->feet += feet + (this->inches + inches) / 12;\n",
        "        this->inches = (this->inches + inches) % 12;\n",
        "        return *this;\n",
        "    }\n",
        "\n",
        "    Distance& show(){\n",
        "        cout << this->feet << \"' \" << this->inches << \"\\\"\" << endl;\n",
        "        return *this;\n",
        "    }\n",
        "    void operator+(int feet){ this->feet += feet; }\n",
        "    int operator--(){ return this->feet -= 1; }\n",
        "    bool operator==(Distance& d) { return this->feet == d.feet && this->inches == d.inches; }\n",
        "    friend ostream& operator<<(ostream& out, Distance& d){\n",
        "        out << d.feet << \"' \" << d.inches << \"\\\"\";\n",
        "        return out;\n",
        "    }\n",
        "    friend istream& operator>>(istream& in, Distance& d){\n",
        "        cout << \"Enter feet and inches (integers):\" << endl;\n",
        "        in >> d.feet >> d.inches;\n",
        "        return in;\n",
        "    }\n",
        "};\n",
        "\n",
        "int main(){\n",
        "  // TODO\n",
        "  Distance d1(0, 0);\n",
        "  Distance d2(0, 0);\n",
        "  cin >> d1;\n",
        "  cin >> d2;\n",
        "  cout << d1 << endl;\n",
        "  cout << d2 << endl;\n",
        "  d1 + 6;\n",
        "  cout << d1 << endl;\n",
        "  --d2;\n",
        "  cout << d2 << endl;\n",
        "  cout << (d1 == d2) << endl;\n",
        "\n",
        "  return 0;\n",
        "}"
      ]
    },
    {
      "cell_type": "code",
      "source": [
        "!g++ -std=c++17 ch02.cpp -o ch02\n",
        "!./ch02"
      ],
      "metadata": {
        "id": "t4teO7JsI0gH",
        "colab": {
          "base_uri": "https://localhost:8080/"
        },
        "outputId": "b36cee83-b8f7-4ac4-c4e1-b29335e54e01"
      },
      "execution_count": 17,
      "outputs": [
        {
          "output_type": "stream",
          "name": "stdout",
          "text": [
            "Enter feet and inches (integers):\n",
            "5 9\n",
            "Enter feet and inches (integers):\n",
            "6 2\n",
            "5' 9\"\n",
            "6' 2\"\n",
            "11' 9\"\n",
            "5' 2\"\n",
            "0\n"
          ]
        }
      ]
    },
    {
      "cell_type": "markdown",
      "metadata": {
        "id": "VirENWrjCy0g"
      },
      "source": [
        "## Another look at the counter class\n",
        "\n",
        "Right now the latest version of the `Counter` class suppors something like this:\n",
        "\n",
        "```cpp\n",
        "Counter c4(0);\n",
        "++c4;\n",
        "--c4;\n",
        "c4 + 9;\n",
        "c4 - 2;\n",
        "```"
      ]
    },
    {
      "cell_type": "markdown",
      "metadata": {
        "id": "PsmCkySQCy0h"
      },
      "source": [
        "However, it does not support something like this.\n",
        "\n",
        "```cpp\n",
        "c4++;\n",
        "c4--;\n",
        "9 + c4;\n",
        "2 - c4;\n",
        "```"
      ]
    },
    {
      "cell_type": "markdown",
      "metadata": {
        "id": "QhIbCB7FCy0h"
      },
      "source": [
        "How do we support the postfix operations `c4++` and `c4--` and what makes them different from the already implemented  prefix operators `++c4` and `--c4`? It turns out that to distinguish between prefix and postfix operators, C++ uses a different signature for the postfix operators from the prefix operators. While the prefix operators use the following definitions:\n",
        "\n",
        "```c++\n",
        "int operator++(){ return next(); }\n",
        "int operator--(){ return prev(); }\n",
        "```\n",
        "the postfix operators use the following definitions:\n",
        "\n",
        "```c++\n",
        "int operator++(int){ return next(); }\n",
        "int operator--(int){ return prev(); }\n",
        "```\n",
        "\n",
        "The `int` parameter is a dummy unused parameter meant to only tell C++ which definition is for prefix and which is postfix operators.\n",
        "\n",
        "On the other hand, the expressions `9 + c4` and `2 - c4` both have integer leftmost operands. That means we need to use a friend function for these.\n",
        "\n",
        "Here is a counter class that supports these new operators."
      ]
    },
    {
      "cell_type": "code",
      "execution_count": 19,
      "metadata": {
        "id": "uvMwAAuBCy0h",
        "outputId": "9ff647af-4db2-48e5-ff9a-ab9d506256b2",
        "colab": {
          "base_uri": "https://localhost:8080/"
        }
      },
      "outputs": [
        {
          "output_type": "stream",
          "name": "stdout",
          "text": [
            "Writing ex04.cpp\n"
          ]
        }
      ],
      "source": [
        "%%writefile ex04.cpp\n",
        "\n",
        "#include <iostream>\n",
        "\n",
        "using namespace std;\n",
        "\n",
        "// Version 4\n",
        "class Counter {\n",
        "private:\n",
        "     int count;\n",
        "     int initial;\n",
        "protected:\n",
        "     int step;\n",
        "public:\n",
        "    Counter(int i): initial(i), count(i), step(1){}\n",
        "    int next(){ return count += step; }\n",
        "    int prev(){ return count -= step; }\n",
        "    int current(){ return count; }\n",
        "    void reset(){ count = initial; }\n",
        "\n",
        "    int operator++(){ return next(); } // Overloads prefix ++\n",
        "    int operator--(){ return prev(); } // Overloads prefix --\n",
        "\n",
        "    friend ostream& operator<<(ostream& out, Counter& c){ // Overloads <<\n",
        "        out << c.count;\n",
        "        return out;\n",
        "    }\n",
        "\n",
        "    // The new five operators\n",
        "    void operator+(int n){ count += n; }\n",
        "    void operator-(int n){ count -= n; }\n",
        "    bool operator==(Counter& c){\n",
        "        return this->initial == c.initial && this->count == c.count && this->step == c.step;\n",
        "    }\n",
        "    bool operator!=(Counter& c) { return !(*this == c); }\n",
        "    friend istream& operator>>(istream& in, Counter& c){\n",
        "        cout << \"Enter counter initial, count, and step: \";\n",
        "        in >> c.initial >>  c.count >> c.step;\n",
        "        return in;\n",
        "    }\n",
        "\n",
        "    int operator++(int){ return next(); } // Overloads postfix ++\n",
        "    int operator--(int){ return prev(); } // Overloads postfix --\n",
        "\n",
        "    friend void operator+(int n, Counter& c){ c.count += n; }\n",
        "    friend void operator-(int n, Counter& c){ c.count -= n; }\n",
        "\n",
        "};"
      ]
    },
    {
      "cell_type": "markdown",
      "metadata": {
        "id": "ikhd0CwXCy0i"
      },
      "source": [
        "Let's test these newly overloaded operators."
      ]
    },
    {
      "cell_type": "code",
      "execution_count": 20,
      "metadata": {
        "id": "kBYzTBMZCy0i",
        "outputId": "a9a4ddf4-30e6-4d77-8c3c-a93df95b7637",
        "colab": {
          "base_uri": "https://localhost:8080/"
        }
      },
      "outputs": [
        {
          "output_type": "stream",
          "name": "stdout",
          "text": [
            "Appending to ex04.cpp\n"
          ]
        }
      ],
      "source": [
        "%%writefile -a ex04.cpp\n",
        "\n",
        "int main(){\n",
        "  Counter cc(0);\n",
        "  cc++;\n",
        "  cc--;\n",
        "  9 + cc;\n",
        "  2 - cc;\n",
        "  cout << cc;\n",
        "\n",
        "  return 0;\n",
        "}"
      ]
    },
    {
      "cell_type": "code",
      "source": [
        "!g++ -std=c++17 ex04.cpp -o ex04\n",
        "!./ex04"
      ],
      "metadata": {
        "id": "bfRKyCD7KIoF",
        "outputId": "db1daa28-7ad9-4cc2-fa51-bf708fe740aa",
        "colab": {
          "base_uri": "https://localhost:8080/"
        }
      },
      "execution_count": 21,
      "outputs": [
        {
          "output_type": "stream",
          "name": "stdout",
          "text": [
            "7"
          ]
        }
      ]
    },
    {
      "cell_type": "markdown",
      "metadata": {
        "id": "aMo_jgfECy0i"
      },
      "source": [
        "## Overloading `[]`\n",
        "\n",
        "Finally here is an example of overloading the `[]` operator which is typically used for indexing arrays."
      ]
    },
    {
      "cell_type": "code",
      "execution_count": 22,
      "metadata": {
        "id": "kmh65dS2Cy0i",
        "outputId": "8b9f9c0d-c2d5-4c37-bd95-5bee92ffc558",
        "colab": {
          "base_uri": "https://localhost:8080/"
        }
      },
      "outputs": [
        {
          "output_type": "stream",
          "name": "stdout",
          "text": [
            "Writing ex05.cpp\n"
          ]
        }
      ],
      "source": [
        "%%writefile ex05.cpp\n",
        "\n",
        "#include <iostream>\n",
        "\n",
        "using namespace std;\n",
        "\n",
        "class Complex {\n",
        "private:\n",
        "    double real, imaginary;\n",
        "\n",
        "public:\n",
        "    Complex(double r = 0, double i= 0): real(r), imaginary(i){}\n",
        "\n",
        "    double operator[](int index) const { //READ OONLY: real value at index 0, imaginary at any other index;\n",
        "        switch(index){\n",
        "        case 0: return real;\n",
        "        default: return imaginary;\n",
        "        }\n",
        "    }\n",
        "\n",
        "    double& operator[](int index){ //WRITE: real value at index 0, imaginary at any other index;\n",
        "        switch(index){\n",
        "        case 0: return real;\n",
        "        default: return imaginary;\n",
        "        }\n",
        "    }\n",
        "};"
      ]
    },
    {
      "cell_type": "code",
      "execution_count": 23,
      "metadata": {
        "scrolled": true,
        "id": "6Vb6rbLnCy0i",
        "outputId": "0b6f21c2-976d-495d-8c83-2fb88c50ffe4",
        "colab": {
          "base_uri": "https://localhost:8080/"
        }
      },
      "outputs": [
        {
          "output_type": "stream",
          "name": "stdout",
          "text": [
            "Appending to ex05.cpp\n"
          ]
        }
      ],
      "source": [
        "%%writefile -a ex05.cpp\n",
        "\n",
        "int main(){\n",
        "  Complex xx(5,6);\n",
        "\n",
        "  cout << xx[0] << endl;\n",
        "  xx[1] = 9;\n",
        "  cout << xx[1];\n",
        "\n",
        "  return 0;\n",
        "}"
      ]
    },
    {
      "cell_type": "code",
      "source": [
        "!g++ -std=c++17 ex05.cpp -o ex05\n",
        "!./ex05"
      ],
      "metadata": {
        "id": "vvA7NV8VK4Uf",
        "outputId": "773a539b-0093-4bc1-b0ca-f75bd7b8726d",
        "colab": {
          "base_uri": "https://localhost:8080/"
        }
      },
      "execution_count": 24,
      "outputs": [
        {
          "output_type": "stream",
          "name": "stdout",
          "text": [
            "5\n",
            "9"
          ]
        }
      ]
    },
    {
      "cell_type": "markdown",
      "metadata": {
        "id": "3fWc1q6mCy0j"
      },
      "source": [
        "## Operator overloading restrictions\n",
        "As powerful as operator overloading can be, it comes with a few restrictions:  \n",
        "* You cannot introduce a new operator that C++ does not already support.\n",
        "* You cannot alter the precedence of the operator you are overloading.\n",
        "* You cannot change the number of operands that an operator takes.\n",
        "* Overloaded operators cannot have default arguments.\n",
        "* The following operators cannot be overloaded: `.`, `::`, `.*`, `?:`, and `sizeof`"
      ]
    },
    {
      "cell_type": "markdown",
      "source": [
        "## Another detailed operator overloading example\n",
        "\n",
        "In this example, we have a class named `MyIntegerList` representing a list of zero or more integers much like an array or a vector. This class has member functions for:\n",
        "* Finding how many integers are in the list\n",
        "* Returning the first integer in the list\n",
        "* Returning the last integer in the list\n",
        "* Returning whether a list is the same as another given list.\n",
        "* Adding a new integer item to the end of the list\n",
        "* Removing the last given number of integers from the end of the list.\n",
        "* Printing the all the integers in the list in a comma-separated format to the console.\n",
        "\n",
        "Here is how this class is defined."
      ],
      "metadata": {
        "id": "DjRQNwdxLU4l"
      }
    },
    {
      "cell_type": "code",
      "execution_count": 25,
      "metadata": {
        "id": "s8jDheY0Cy0j",
        "outputId": "097ad72f-2a72-4421-8e7f-0b3d109f57b1",
        "colab": {
          "base_uri": "https://localhost:8080/"
        }
      },
      "outputs": [
        {
          "output_type": "stream",
          "name": "stdout",
          "text": [
            "Writing ex06.cpp\n"
          ]
        }
      ],
      "source": [
        "%%writefile ex06.cpp\n",
        "\n",
        "#include <iostream>\n",
        "#include <vector>\n",
        "\n",
        "class MyIntegerList {\n",
        "private:\n",
        "     std::vector<int> list;\n",
        "public:\n",
        "    MyIntegerList(){}\n",
        "    int count() const { return list.size(); }\n",
        "    int first() const { return list[0]; }\n",
        "    int last() const { return list[list.size() - 1]; }\n",
        "\n",
        "    bool sameAs(const MyIntegerList& lst) const { return this->list == lst.list; }\n",
        "    MyIntegerList& add(int e){ list.push_back(e); return *this; }\n",
        "    void remove(int count) {\n",
        "        if (list.size() > count) {\n",
        "            for(int i = 0; i < count; i++){\n",
        "                list.pop_back();\n",
        "            }\n",
        "        }\n",
        "    }\n",
        "\n",
        "    void print() const{\n",
        "        bool first = true;\n",
        "        for(int e : list) {\n",
        "            if(!first) std::cout << \", \";\n",
        "            else first = false;\n",
        "\n",
        "            std::cout << e;\n",
        "        }\n",
        "    }\n",
        "};"
      ]
    },
    {
      "cell_type": "markdown",
      "metadata": {
        "id": "MwS8fqDSCy0j"
      },
      "source": [
        "Here is some code to test this class."
      ]
    },
    {
      "cell_type": "code",
      "execution_count": 26,
      "metadata": {
        "id": "JtD_jhtBCy0j",
        "outputId": "d24a3606-4c3b-4a8f-ff15-cde384e48657",
        "colab": {
          "base_uri": "https://localhost:8080/"
        }
      },
      "outputs": [
        {
          "output_type": "stream",
          "name": "stdout",
          "text": [
            "Appending to ex06.cpp\n"
          ]
        }
      ],
      "source": [
        "%%writefile -a ex06.cpp\n",
        "\n",
        "using namespace std;\n",
        "\n",
        "int main(){\n",
        "  MyIntegerList odds;\n",
        "  odds.add(1).add(3).add(5).add(7).add(9);\n",
        "\n",
        "  cout << \"     First odd element: \" << odds.first() << '\\n';\n",
        "  cout << \"      Last odd element: \" << odds.last() << '\\n';\n",
        "  cout << \"     # of odd elements: \" << odds.count() << '\\n';\n",
        "  cout << \"      All odd elements: \";\n",
        "  odds.print();\n",
        "  cout << endl;\n",
        "\n",
        "  MyIntegerList evens;\n",
        "  evens.add(2).add(4).add(6).add(8).add(10);\n",
        "  cout << \"     All even elements: \";\n",
        "  evens.print();\n",
        "  cout << endl;\n",
        "  cout << \"   Both lists the same? \" << odds.sameAs(evens) << endl;\n",
        "\n",
        "  odds.remove(2); // removes the last two elements from odds\n",
        "  cout << \"Remaining odd elements: \";\n",
        "  odds.print();\n",
        "  cout << endl;\n",
        "\n",
        "  return 0;\n",
        "}"
      ]
    },
    {
      "cell_type": "code",
      "source": [
        "!g++ -std=c++17 ex06.cpp -o ex06\n",
        "!./ex06"
      ],
      "metadata": {
        "id": "MffiKpWpMZiu",
        "outputId": "c92405dd-934e-4e37-f1bd-6d26353c3317",
        "colab": {
          "base_uri": "https://localhost:8080/"
        }
      },
      "execution_count": 27,
      "outputs": [
        {
          "output_type": "stream",
          "name": "stdout",
          "text": [
            "     First odd element: 1\n",
            "      Last odd element: 9\n",
            "     # of odd elements: 5\n",
            "      All odd elements: 1, 3, 5, 7, 9\n",
            "     All even elements: 2, 4, 6, 8, 10\n",
            "   Both lists the same? 0\n",
            "Remaining odd elements: 1, 3, 5\n"
          ]
        }
      ]
    },
    {
      "cell_type": "markdown",
      "metadata": {
        "id": "KaiEAx0lCy0k"
      },
      "source": [
        "We can use operator overloading to improve the usability of this class. Let's see if we can use `+` to add an element to the end of the list, `-` to remove the last given number of integers form the end of the list, `==` to tell if two lists are the same and `<<` to print the list directly. In other words we want the following code to work, which right now does not as you can see from the errors you get when run it. Uncomment the following code to see the errors."
      ]
    },
    {
      "cell_type": "code",
      "execution_count": 28,
      "metadata": {
        "id": "u6bdBaXGCy0k",
        "outputId": "40b6359f-259d-443c-da10-a50e67ee3777",
        "colab": {
          "base_uri": "https://localhost:8080/"
        }
      },
      "outputs": [
        {
          "output_type": "stream",
          "name": "stdout",
          "text": [
            "Writing ex07.cpp\n"
          ]
        }
      ],
      "source": [
        "%%writefile ex07.cpp\n",
        "\n",
        "#include <iostream>\n",
        "#include <vector>\n",
        "\n",
        "class MyIntegerList {\n",
        "private:\n",
        "     std::vector<int> list;\n",
        "public:\n",
        "    MyIntegerList(){}\n",
        "    int count() const { return list.size(); }\n",
        "    int first() const { return list[0]; }\n",
        "    int last() const { return list[list.size() - 1]; }\n",
        "\n",
        "    bool sameAs(const MyIntegerList& lst) const { return this->list == lst.list; }\n",
        "    MyIntegerList& add(int e){ list.push_back(e); return *this; }\n",
        "    void remove(int count) {\n",
        "        if (list.size() > count) {\n",
        "            for(int i = 0; i < count; i++){\n",
        "                list.pop_back();\n",
        "            }\n",
        "        }\n",
        "    }\n",
        "\n",
        "    void print() const{\n",
        "        bool first = true;\n",
        "        for(int e : list) {\n",
        "            if(!first) std::cout << \", \";\n",
        "            else first = false;\n",
        "\n",
        "            std::cout << e;\n",
        "        }\n",
        "    }\n",
        "};\n",
        "\n",
        "using namespace std;\n",
        "\n",
        "int main(){\n",
        "  /*\n",
        "  MyIntegerList a;\n",
        "  // Same as: a.add(1).add(3).add(5).add(7).add(9);\n",
        "  a + 1 + 3 + 5 + 7 + 9;\n",
        "\n",
        "  MyIntegerList b;\n",
        "  // Same as: b.add(2).add(4).add(6).add(8).add(10);\n",
        "  b + 2 + 4 + 6 + 8 + 10;\n",
        "\n",
        "  // Same as:\n",
        "  //     cout << \"  All odd elements: \";\n",
        "  //     a.print();\n",
        "  //     cout << endl;\n",
        "  cout << \"     All odd elements: \" << a << endl;\n",
        "\n",
        "  // Same as:\n",
        "  //     cout << \"  All even elements: \";\n",
        "  //     b.print();\n",
        "  //     cout << endl;\n",
        "  cout << \"     All even elements: \" << b << endl;\n",
        "\n",
        "  // Same as: cout << \"Both lists the same? \" << a.sameAs(b)\n",
        "  cout << \"Both lists the same? \" << (a == b) << endl;\n",
        "\n",
        "  // Same as: a.remove(2) to remove the last two integers of a\n",
        "  a - 2;\n",
        "\n",
        "  // Same as:\n",
        "  //     cout << \"Remaining odd elements: \";\n",
        "  //     a.print();\n",
        "  //     cout << endl;\n",
        "  cout << \"Remaining odd elements: \" << a << endl;\n",
        "  */\n",
        "\n",
        "  return 0;\n",
        "}"
      ]
    },
    {
      "cell_type": "code",
      "source": [
        "!g++ -std=c++17 ex07.cpp -o ex07\n",
        "!./ex07"
      ],
      "metadata": {
        "id": "oSeNgjuaM9EA"
      },
      "execution_count": null,
      "outputs": []
    },
    {
      "cell_type": "markdown",
      "metadata": {
        "id": "V6CeOXcyCy0k"
      },
      "source": [
        "So we create a new version of this class. For the above code to work, we need to overload the following operators:\n",
        "* `operator+` to suppor the `+` operator. It should behave like the `add` member function.\n",
        "* `operator-` to support the `-` operator. It should behave like the `remove` member function.\n",
        "* `operator==` to support the `==` operator. It should behave like the `sameAs` member function.\n",
        "* `operator<<` to support the `<<` operator the prints the list directly. This must be a friend function.\n",
        "\n",
        "Here is the new implemenation of this class. To avoid naming conflicts, we'll call it `MyIntegerList2`."
      ]
    },
    {
      "cell_type": "code",
      "execution_count": null,
      "metadata": {
        "id": "i-WqpLILCy0k",
        "outputId": "e5a9b24c-2e68-4159-9083-a2838af0db45",
        "colab": {
          "base_uri": "https://localhost:8080/"
        }
      },
      "outputs": [
        {
          "output_type": "stream",
          "name": "stdout",
          "text": [
            "Overwriting ex08.cpp\n"
          ]
        }
      ],
      "source": [
        "%%writefile ex08.cpp\n",
        "\n",
        "#include <iostream>\n",
        "#include <vector>\n",
        "\n",
        "class MyIntegerList {\n",
        "private:\n",
        "     std::vector<int> list;\n",
        "public:\n",
        "    MyIntegerList(){}\n",
        "    int count() const { return list.size(); }\n",
        "    int first() const { return list[0]; }\n",
        "    int last() const { return list[list.size() - 1]; }\n",
        "\n",
        "    bool sameAs(const MyIntegerList& lst) const { return this->list == lst.list; }\n",
        "    bool operator==(const MyIntegerList& lst) const { return sameAs(lst); }\n",
        "\n",
        "    MyIntegerList& add(int e){ list.push_back(e); return *this; }\n",
        "    MyIntegerList& operator+(int e){ add(e); return *this; }\n",
        "\n",
        "    void remove(int count) {\n",
        "        if (list.size() > count) {\n",
        "            for(int i = 0; i < count; i++){\n",
        "                list.pop_back();\n",
        "            }\n",
        "        }\n",
        "    }\n",
        "    void operator-(int count){ remove(count); }\n",
        "\n",
        "    void print() const{\n",
        "        bool first = true;\n",
        "        for(int e : list) {\n",
        "            if(!first) std::cout << \", \";\n",
        "            else first = false;\n",
        "\n",
        "            std::cout << e;\n",
        "        }\n",
        "    }\n",
        "\n",
        "    friend std::ostream& operator<<(std::ostream& out, const MyIntegerList& lst){\n",
        "        bool first = true;\n",
        "        for(int e : lst.list) {\n",
        "            if(!first) std::cout << \", \";\n",
        "            else first = false;\n",
        "\n",
        "            out << e;\n",
        "        }\n",
        "\n",
        "        return out;\n",
        "    }\n",
        "};"
      ]
    },
    {
      "cell_type": "markdown",
      "metadata": {
        "id": "a5V-pn7vCy0k"
      },
      "source": [
        "Notice how the operator functions are basically the same as their corresponding functions. Here is the code that didn't work before."
      ]
    },
    {
      "cell_type": "code",
      "execution_count": 29,
      "metadata": {
        "id": "RUufkm2iCy0l",
        "outputId": "9a8f6b95-f797-4154-ae72-5843aa00a069",
        "colab": {
          "base_uri": "https://localhost:8080/"
        }
      },
      "outputs": [
        {
          "output_type": "stream",
          "name": "stdout",
          "text": [
            "Writing ex08.cpp\n"
          ]
        }
      ],
      "source": [
        "%%writefile -a ex08.cpp\n",
        "\n",
        "using namespace std;\n",
        "\n",
        "int main(){\n",
        "  MyIntegerList a;\n",
        "  // Same as: a.add(1).add(3).add(5).add(7).add(9);\n",
        "  a + 1 + 3 + 5 + 7 + 9;\n",
        "\n",
        "  MyIntegerList b;\n",
        "  // Same as: b.add(2).add(4).add(6).add(8).add(10);\n",
        "  b + 2 + 4 + 6 + 8 + 10;\n",
        "\n",
        "  // Same as:\n",
        "  //     cout << \"  All odd elements: \";\n",
        "  //     a.print();\n",
        "  //     cout << endl;\n",
        "  cout << \"     All odd elements: \" << a << endl;\n",
        "\n",
        "  // Same as:\n",
        "  //     cout << \"  All even elements: \";\n",
        "  //     b.print();\n",
        "  //     cout << endl;\n",
        "  cout << \"     All even elements: \" << b << endl;\n",
        "\n",
        "  // Same as: cout << \"Both lists the same? \" << a.sameAs(b)\n",
        "  cout << \"Both lists the same? \" << (a == b) << endl;\n",
        "\n",
        "  // Same as: a.remove(2) to remove the last two integers of a\n",
        "  a - 2;\n",
        "\n",
        "  // Same as:\n",
        "  //     cout << \"Remaining odd elements: \";\n",
        "  //     a.print();\n",
        "  //     cout << endl;\n",
        "  cout << \"Remaining odd elements: \" << a << endl;\n",
        "\n",
        "  return 0;\n",
        "}"
      ]
    },
    {
      "cell_type": "code",
      "source": [
        "!g++ -std=c++17 ex08.cpp -o ex08\n",
        "!./ex08"
      ],
      "metadata": {
        "id": "WG__fzsfNyZi",
        "outputId": "6e48be1a-e0fd-4768-a2b8-d5227881bfe4",
        "colab": {
          "base_uri": "https://localhost:8080/"
        }
      },
      "execution_count": 30,
      "outputs": [
        {
          "output_type": "stream",
          "name": "stdout",
          "text": [
            "\u001b[01m\u001b[Kex08.cpp:\u001b[m\u001b[K In function ‘\u001b[01m\u001b[Kint main()\u001b[m\u001b[K’:\n",
            "\u001b[01m\u001b[Kex08.cpp:5:3:\u001b[m\u001b[K \u001b[01;31m\u001b[Kerror: \u001b[m\u001b[K‘\u001b[01m\u001b[KMyIntegerList\u001b[m\u001b[K’ was not declared in this scope\n",
            "    5 |   \u001b[01;31m\u001b[KMyIntegerList\u001b[m\u001b[K a;\n",
            "      |   \u001b[01;31m\u001b[K^~~~~~~~~~~~~\u001b[m\u001b[K\n",
            "\u001b[01m\u001b[Kex08.cpp:7:3:\u001b[m\u001b[K \u001b[01;31m\u001b[Kerror: \u001b[m\u001b[K‘\u001b[01m\u001b[Ka\u001b[m\u001b[K’ was not declared in this scope\n",
            "    7 |   \u001b[01;31m\u001b[Ka\u001b[m\u001b[K + 1 + 3 + 5 + 7 + 9;\n",
            "      |   \u001b[01;31m\u001b[K^\u001b[m\u001b[K\n",
            "\u001b[01m\u001b[Kex08.cpp:9:16:\u001b[m\u001b[K \u001b[01;31m\u001b[Kerror: \u001b[m\u001b[Kexpected ‘\u001b[01m\u001b[K;\u001b[m\u001b[K’ before ‘\u001b[01m\u001b[Kb\u001b[m\u001b[K’\n",
            "    9 |   MyIntegerList\u001b[01;31m\u001b[K \u001b[m\u001b[K\u001b[32m\u001b[Kb\u001b[m\u001b[K;\n",
            "      |                \u001b[01;31m\u001b[K^\u001b[m\u001b[K\u001b[32m\u001b[K~\u001b[m\u001b[K\n",
            "      |                \u001b[32m\u001b[K;\u001b[m\u001b[K\n",
            "\u001b[01m\u001b[Kex08.cpp:11:3:\u001b[m\u001b[K \u001b[01;31m\u001b[Kerror: \u001b[m\u001b[K‘\u001b[01m\u001b[Kb\u001b[m\u001b[K’ was not declared in this scope\n",
            "   11 |   \u001b[01;31m\u001b[Kb\u001b[m\u001b[K + 2 + 4 + 6 + 8 + 10;\n",
            "      |   \u001b[01;31m\u001b[K^\u001b[m\u001b[K\n",
            "\u001b[01m\u001b[Kex08.cpp:17:3:\u001b[m\u001b[K \u001b[01;31m\u001b[Kerror: \u001b[m\u001b[K‘\u001b[01m\u001b[Kcout\u001b[m\u001b[K’ was not declared in this scope\n",
            "   17 |   \u001b[01;31m\u001b[Kcout\u001b[m\u001b[K << \"     All odd elements: \" << a << endl;\n",
            "      |   \u001b[01;31m\u001b[K^~~~\u001b[m\u001b[K\n",
            "\u001b[01m\u001b[Kex08.cpp:1:1:\u001b[m\u001b[K \u001b[01;36m\u001b[Knote: \u001b[m\u001b[K‘\u001b[01m\u001b[Kstd::cout\u001b[m\u001b[K’ is defined in header ‘\u001b[01m\u001b[K<iostream>\u001b[m\u001b[K’; did you forget to ‘\u001b[01m\u001b[K#include <iostream>\u001b[m\u001b[K’?\n",
            "  +++ |+\u001b[32m\u001b[K#include <iostream>\u001b[m\u001b[K\n",
            "    1 | \n",
            "\u001b[01m\u001b[Kex08.cpp:17:45:\u001b[m\u001b[K \u001b[01;31m\u001b[Kerror: \u001b[m\u001b[K‘\u001b[01m\u001b[Kendl\u001b[m\u001b[K’ was not declared in this scope\n",
            "   17 |   cout << \"     All odd elements: \" << a << \u001b[01;31m\u001b[Kendl\u001b[m\u001b[K;\n",
            "      |                                             \u001b[01;31m\u001b[K^~~~\u001b[m\u001b[K\n",
            "\u001b[01m\u001b[Kex08.cpp:1:1:\u001b[m\u001b[K \u001b[01;36m\u001b[Knote: \u001b[m\u001b[K‘\u001b[01m\u001b[Kstd::endl\u001b[m\u001b[K’ is defined in header ‘\u001b[01m\u001b[K<ostream>\u001b[m\u001b[K’; did you forget to ‘\u001b[01m\u001b[K#include <ostream>\u001b[m\u001b[K’?\n",
            "  +++ |+\u001b[32m\u001b[K#include <ostream>\u001b[m\u001b[K\n",
            "    1 | \n",
            "/bin/bash: line 1: ./ex08: No such file or directory\n"
          ]
        }
      ]
    },
    {
      "cell_type": "markdown",
      "metadata": {
        "id": "g4SHnED9Cy0l"
      },
      "source": [
        "As you can see this code is now working; again since we implemented the neccessary `operator` functions for the `+`, `-`, `==`, and `<<` operators."
      ]
    },
    {
      "cell_type": "markdown",
      "metadata": {
        "id": "ovT5S4YaCy0l"
      },
      "source": [
        "## CODING CHALLENGE 3\n",
        "\n",
        "Refactor (modify) the class below so as to overload the following operators:\n",
        "* the `>>` operator such that `cin >> p` prompts the user to enter two integers: x and y.\n",
        "* the `<<` operator such that `cout << p` prints out the point `p` in a format like this: `(10, 15)`.\n",
        "* the read-only `[]` operator such that `p[0]` returns p's x and `y[1]` p's y.\n",
        "* the write `[]` operator such that `p[0] = 3` sets p's x to 3 and `y[1] = 7` sets p's y to 7.\n",
        "\n",
        "\n",
        "The `main` function below, create two point objects `p` and `q` and use them to call and test all the four overloaded operators."
      ]
    },
    {
      "cell_type": "code",
      "execution_count": 33,
      "metadata": {
        "id": "g7ElbQOSCy0l",
        "outputId": "0b3132f5-24f4-4922-8cd4-e57a19a0b5da",
        "colab": {
          "base_uri": "https://localhost:8080/"
        }
      },
      "outputs": [
        {
          "output_type": "stream",
          "name": "stdout",
          "text": [
            "Overwriting ch03.cpp\n"
          ]
        }
      ],
      "source": [
        "%%writefile ch03.cpp\n",
        "\n",
        "#include <iostream>\n",
        "using namespace std;\n",
        "\n",
        "class Point {\n",
        "private:\n",
        "    int x, y;\n",
        "\n",
        "public:\n",
        "    Point(int x, int y): x(x), y(y){}\n",
        "\n",
        "    void print(){\n",
        "        cout << \"(\" << this->x << \", \" << this->y << \")\" << endl;\n",
        "    }\n",
        "\n",
        "    int operator[](int index) const {\n",
        "        switch(index){\n",
        "        case 0: return this->x;\n",
        "        default: return this->y;\n",
        "        }\n",
        "    }\n",
        "\n",
        "    int& operator[](int index) {\n",
        "        switch(index){\n",
        "        case 0: return this->x;\n",
        "        default: return this->y;\n",
        "        }\n",
        "    }\n",
        "\n",
        "    friend ostream& operator<<(ostream& out, Point& p) {\n",
        "        out << \"(\" << p.x << \", \" << p.y << \")\";\n",
        "        return out;\n",
        "    }\n",
        "\n",
        "    friend istream& operator>>(istream& in, Point& p) {\n",
        "        cout << \"Enter an x and y coordinate (integers):\" << endl;\n",
        "        in >> p.x >> p.y;\n",
        "        return in;\n",
        "    }\n",
        "};\n",
        "\n",
        "int main()\n",
        "{\n",
        "  Point p(0, 0);\n",
        "  Point q(0, 0);\n",
        "\n",
        "  cin >> p;\n",
        "  cin >> q;\n",
        "\n",
        "  cout << p << endl;\n",
        "  cout << q << endl;\n",
        "\n",
        "  cout << p[0] << endl;\n",
        "  cout << p[1] << endl;\n",
        "  cout << q[0] << endl;\n",
        "  cout << q[1] << endl;\n",
        "\n",
        "  return 0;\n",
        "}"
      ]
    },
    {
      "cell_type": "code",
      "source": [
        "!g++ -std=c++17 ch03.cpp -o ch03\n",
        "!./ch03"
      ],
      "metadata": {
        "id": "SVYcuSOOPTqI",
        "colab": {
          "base_uri": "https://localhost:8080/"
        },
        "outputId": "b7709fbf-c422-4b94-ef40-b80d3291c27a"
      },
      "execution_count": 34,
      "outputs": [
        {
          "output_type": "stream",
          "name": "stdout",
          "text": [
            "Enter an x and y coordinate (integers):\n",
            "4 7\n",
            "Enter an x and y coordinate (integers):\n",
            "5 8\n",
            "(4, 7)\n",
            "(5, 8)\n",
            "4\n",
            "7\n",
            "5\n",
            "8\n"
          ]
        }
      ]
    }
  ],
  "metadata": {
    "kernelspec": {
      "display_name": "Python 3",
      "name": "python3"
    },
    "language_info": {
      "name": "python"
    },
    "colab": {
      "provenance": [],
      "toc_visible": true
    }
  },
  "nbformat": 4,
  "nbformat_minor": 0
}