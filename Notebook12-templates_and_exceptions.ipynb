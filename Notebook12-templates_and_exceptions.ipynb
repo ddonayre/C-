{
  "cells": [
    {
      "cell_type": "markdown",
      "metadata": {
        "id": "4hXYYRmgDFTq"
      },
      "source": [
        "<a target=\"_blank\" href=\"https://colab.research.google.com/github/WSU-CS1410-AA/cs1410-notebooks/blob/main/Notebook12-templates_and_exceptions.ipynb\">\n",
        "  <img src=\"https://colab.research.google.com/assets/colab-badge.svg\" alt=\"Open In Colab\"/>\n",
        "</a>"
      ]
    },
    {
      "cell_type": "markdown",
      "metadata": {
        "id": "L2QW89lVDFTx"
      },
      "source": [
        "# Exceptions\n",
        "\n",
        "A lot of what we do as programmers involves recognizing errors, anticipating them, and handling them when they occur. In fact, errors happen all the time, and we can identify three kinds of errors:\n",
        "* **Compile-time errors** which are discovered and reported by the compiler during compilation. These errors must be fixed before the program can run. Unbalanced braces or missing semicolons at the ends of statements are common examples of compile-time errors.\n",
        "* **Runtime errors** which pass the compiler's test and do not show up until the program is run. Unhandled runtime errors can crash the program. For example, entering the string `\"fifty five\"` instead of `55` for an integer variable causes an error and, unless handled, crashes the program. These errors are harder to detect than compile-time errors. We used exceptions to throw, catch, and handle these errors\n",
        "* **Logical errors** which are the worst kind of errors. These are the errors that the compiler cannot detect nor do they crash the program. Instead, your program keeps running except that it produces incorrect results. For example, mistaking May 4 (05/04/2019) for April 5 (04/05/2019) is a logical error. The only way to detect and prevent these errors is to be code carefully, be organized, and test thoroughly.\n",
        "\n",
        "One of the early goals of C++ is to improve and standardize how errors are reported and handled over what C provides. In doing so, C++ distinguishes between checking for errors and handling them. Checking for errors means detecting when errors occur. Handling them means responding to them. C++ uses exceptions to achieve this separation. When an error is checked and detected inside a function, an exception is thrown. It's up to the program that called this function to catch the thrown exception and handle it. **In C++, an unhandled exception will crash the program.**.\n",
        "\n",
        "Here is a simple function `divide` that takes two arguments and returns the results of dividing the first argument by the second. This is a clean and simple function. The only issue is that if `by` is 0, this function will attempt to divide by zero, which is a major error in any program.\n",
        "\n",
        "Let's see what C++ does when that happens by running this program."
      ]
    },
    {
      "cell_type": "code",
      "execution_count": 1,
      "metadata": {
        "id": "NnVHAHPMDFTz",
        "outputId": "e74990fe-12b4-4d8b-e8db-c5dff6b2dc74",
        "colab": {
          "base_uri": "https://localhost:8080/"
        }
      },
      "outputs": [
        {
          "output_type": "stream",
          "name": "stdout",
          "text": [
            "Writing ex01.cpp\n"
          ]
        }
      ],
      "source": [
        "%%writefile ex01.cpp\n",
        "\n",
        "#include <iostream>\n",
        "#include <iomanip>\n",
        "#include <fstream>\n",
        "#include <string>\n",
        "#include <vector>\n",
        "\n",
        "using namespace std;\n",
        "\n",
        "double divide(double number, double by){\n",
        "    return number / by;\n",
        "}\n",
        "\n",
        "int main() {\n",
        "  double m, n;\n",
        "\n",
        "  cout << \"Enter a double number: \";\n",
        "  cin >> m;\n",
        "  cout << \"Enter another double number to divide \" << m << \" by: \";\n",
        "  cin >> n;\n",
        "  cout << m << \" / \"  << n << \": \" << divide(m, n) << endl;\n",
        "  cout << \"DONE!\\n\";\n",
        "\n",
        "  double y = divide(m, n);\n",
        "  cout << y + 1 << endl;\n",
        "\n",
        "  return 0;\n",
        "}"
      ]
    },
    {
      "cell_type": "code",
      "source": [
        "!g++ -std=c++17 ex01.cpp -o ex01\n",
        "!./ex01"
      ],
      "metadata": {
        "id": "VCcVHNxeH1PV",
        "outputId": "27b94a9f-fed8-47c5-d419-495b15a44f3f",
        "colab": {
          "base_uri": "https://localhost:8080/"
        }
      },
      "execution_count": 2,
      "outputs": [
        {
          "output_type": "stream",
          "name": "stdout",
          "text": [
            "Enter a double number: 10.5\n",
            "Enter another double number to divide 10.5 by: 20.5\n",
            "10.5 / 20.5: 0.512195\n",
            "DONE!\n",
            "1.5122\n"
          ]
        }
      ]
    },
    {
      "cell_type": "markdown",
      "metadata": {
        "id": "A46_VTVyDFT0"
      },
      "source": [
        "C++  returns an invalid `inf` (for infinity) value when the second entered double number is 0. You can also see that using the returned `inf` value in calculations gives us another invalid `inf` value."
      ]
    },
    {
      "cell_type": "markdown",
      "metadata": {
        "id": "gnZ7E5eeDFT1"
      },
      "source": [
        "To make this function safe, we need to test for such an error and prevent it from happening. But what would we do when a division by zero is detected? What should we return?\n",
        "\n",
        "```C++\n",
        "double divide(double number, double by){\n",
        "    if(by == 0){\n",
        "        return ???; // Not sure what to put here\n",
        "    }\n",
        "        \n",
        "    return number / by;\n",
        "}\n",
        "```\n",
        "Whatever we return here has to be a special value the return of which should indicate the happening of the error. Unfortunately, we don't have a spare value to use in such situations.\n",
        "\n",
        "Prior to C++ exceptions, we would pick an arbitrary outrageously large value and return it, which is not a good practice.\n",
        "\n",
        "Using C++ exceptions,  all we need to do is throw **an exception** instead of return a value. But what is an exception and how do we throw it? Well, in C++ an exception could be any value or object. In this example, we could throw the value of `by` back as the exception. To throw an exception, C++ provides the `throw` keyword.\n",
        "\n",
        "Here is a revised version of the above program using `throw`."
      ]
    },
    {
      "cell_type": "code",
      "execution_count": 3,
      "metadata": {
        "id": "q3peL3x3DFT2",
        "outputId": "a4da4c96-3c98-4f5c-bfb5-8d60d5124e47",
        "colab": {
          "base_uri": "https://localhost:8080/"
        }
      },
      "outputs": [
        {
          "output_type": "stream",
          "name": "stdout",
          "text": [
            "Writing ex02.cpp\n"
          ]
        }
      ],
      "source": [
        "%%writefile ex02.cpp\n",
        "\n",
        "#include <iostream>\n",
        "#include <iomanip>\n",
        "#include <fstream>\n",
        "#include <string>\n",
        "#include <vector>\n",
        "\n",
        "using namespace std;\n",
        "\n",
        "double divide(double number, double by){\n",
        "  if(by == 0){\n",
        "    throw by;\n",
        "  }\n",
        "\n",
        "  return number / by;\n",
        "}\n",
        "\n",
        "int main() {\n",
        "  double m, n;\n",
        "\n",
        "  cout << \"Enter a double number: \";\n",
        "  cin >> m;\n",
        "  cout << \"Enter another double number to divide \" << m << \" by: \";\n",
        "  cin >> n;\n",
        "  cout << m << \" / \"  << n << \": \" << divide(m, n) << endl;\n",
        "  cout << \"DONE!\\n\";\n",
        "\n",
        "  double y = divide(m, n);\n",
        "  cout << y + 1 << endl;\n",
        "\n",
        "  return 0;\n",
        "}"
      ]
    },
    {
      "cell_type": "markdown",
      "metadata": {
        "id": "l_rEYTxkDFT2"
      },
      "source": [
        "Notice how we used a simple `if` conditional to test for the error and throw an exception. Let's run this new program and see what happens when an exception is thrown."
      ]
    },
    {
      "cell_type": "code",
      "execution_count": 4,
      "metadata": {
        "id": "uvSMhdDODFT2",
        "outputId": "fad3b0a0-ce3b-4ac9-b2c8-54d5ac13d520",
        "colab": {
          "base_uri": "https://localhost:8080/"
        }
      },
      "outputs": [
        {
          "output_type": "stream",
          "name": "stdout",
          "text": [
            "Enter a double number: 23.5\n",
            "Enter another double number to divide 23.5 by: 11.2\n",
            "23.5 / 11.2: 2.09821\n",
            "DONE!\n",
            "3.09821\n"
          ]
        }
      ],
      "source": [
        "!g++ -std=c++17 ex02.cpp -o ex02\n",
        "!./ex02"
      ]
    },
    {
      "cell_type": "markdown",
      "metadata": {
        "id": "rWGYZ1nyDFT3"
      },
      "source": [
        "As you can see, the previous program crashed when the second entered double number is 0 and the exception is thrown. This program crash is because the thrown value/error was not caught.\n",
        "\n",
        "How do we prevent this program from crashing when an exception is thrown? The answer is to catch the thrown exception and handle it gracefully.\n",
        "\n",
        "To catch and handle exceptions, C++ provides the `try-catch` blocks. Here is the above program with `try` and `catch`.\n",
        "\n",
        "Here is a revised program that does just that."
      ]
    },
    {
      "cell_type": "code",
      "execution_count": 5,
      "metadata": {
        "scrolled": true,
        "id": "LT2JMx4BDFT3",
        "outputId": "d07721f1-ddc1-48ff-cda4-410ef1e3167e",
        "colab": {
          "base_uri": "https://localhost:8080/"
        }
      },
      "outputs": [
        {
          "output_type": "stream",
          "name": "stdout",
          "text": [
            "Writing ex03.cpp\n"
          ]
        }
      ],
      "source": [
        "%%writefile ex03.cpp\n",
        "\n",
        "#include <iostream>\n",
        "#include <iomanip>\n",
        "#include <fstream>\n",
        "#include <string>\n",
        "#include <vector>\n",
        "\n",
        "using namespace std;\n",
        "\n",
        "double divide(double number, double by){\n",
        "  if(by == 0){\n",
        "    throw by;\n",
        "  }\n",
        "\n",
        "  return number / by;\n",
        "}\n",
        "\n",
        "int main() {\n",
        "  double m, n;\n",
        "\n",
        "  cout << \"Enter a double number: \";\n",
        "  cin >> m;\n",
        "  cout << \"Enter another double number to divide \" << m << \" by: \";\n",
        "  cin >> n;\n",
        "  try{\n",
        "    cout << m << \" / \"  << n << \": \" << divide(m, n) << endl;\n",
        "    cout << \"DONE!\\n\";\n",
        "  }catch(double ex){\n",
        "      cerr << \"Exception occurred: cannot divide by zero.\";\n",
        "  }\n",
        "\n",
        "  return 0;\n",
        "}"
      ]
    },
    {
      "cell_type": "code",
      "source": [
        "!g++ -std=c++17 ex03.cpp -o ex03\n",
        "!./ex03"
      ],
      "metadata": {
        "id": "lWOM8iBjKUjA",
        "outputId": "cc3d2bbd-a155-4480-f676-deb9bfa2e76f",
        "colab": {
          "base_uri": "https://localhost:8080/"
        }
      },
      "execution_count": 7,
      "outputs": [
        {
          "output_type": "stream",
          "name": "stdout",
          "text": [
            "Enter a double number: 24.2\n",
            "Enter another double number to divide 24.2 by: 12.3\n",
            "24.2 / 12.3: 1.96748\n",
            "DONE!\n"
          ]
        }
      ]
    },
    {
      "cell_type": "markdown",
      "metadata": {
        "id": "8O0wMZbTDFT3"
      },
      "source": [
        "Inside the `try{...}` block, we place the code that can throw an exception (the call to the `divide()` function in this example), and inside the `catch(double ex){...}` block, we handle the thrown exception (by reporting the error in this example). Notice that data type `double` in the `catch(double ex){...}` block matches that of the value/object thrown inside `divide1`. Notice also that when the exception is thrown, the `\"DONE!\"` string is not printed out. This is because inside the `try` block, when an exception is thrown, control is transferred to the corresponding `catch` block and the rest of the `try` block is skipped over.\n",
        "\n",
        "## CODING CHALLENGE 1\n",
        "Refactor the constructor of the following class so that if the width argument is negative, an exception is thrown.\n",
        "\n",
        "Then in the `main` function, use `try` and `catch` to create two square objects one with a positive width and another with a negative width. On each object call the show function. When an exception is thrown, catch it and print an appropriate error message to the standard error (using `cerr`)."
      ]
    },
    {
      "cell_type": "code",
      "execution_count": 1,
      "metadata": {
        "id": "NEHdIZ1GDFT4",
        "outputId": "446e63d2-9750-4218-8f27-3b0a96c32662",
        "colab": {
          "base_uri": "https://localhost:8080/"
        }
      },
      "outputs": [
        {
          "output_type": "stream",
          "name": "stdout",
          "text": [
            "Writing ch01.cpp\n"
          ]
        }
      ],
      "source": [
        "%%writefile ch01.cpp\n",
        "#include <iostream>\n",
        "\n",
        "using namespace std;\n",
        "\n",
        "class Square {\n",
        "private:\n",
        "    int x, y, width;\n",
        "public:\n",
        "    Square(int x, int y, int w): x(x), y(y), width(w){\n",
        "      //TODO\n",
        "      if (width < 0) {\n",
        "            throw width;\n",
        "      }\n",
        "    }\n",
        "\n",
        "    void show(){\n",
        "        cout << width << \"x\" << width << \" SQUARE @(\" << x << \",\" << y << \")\";\n",
        "    }\n",
        "};\n",
        "\n",
        "int main() {\n",
        "  // TODO\n",
        "\n",
        "  try {\n",
        "    Square s1(0, 0, 10);\n",
        "    Square s2(0, 0, -10);\n",
        "  }\n",
        "  catch(int ex) {\n",
        "    cerr << \"Error: Width must be greater than 0.\";\n",
        "  }\n",
        "\n",
        "  return 0;\n",
        "}"
      ]
    },
    {
      "cell_type": "code",
      "source": [
        "!g++ -std=c++17 ch01.cpp -o ch01\n",
        "!./ch01"
      ],
      "metadata": {
        "id": "s1BRLID-LMxd",
        "colab": {
          "base_uri": "https://localhost:8080/"
        },
        "outputId": "a0bdbd08-0f4b-4612-b043-7e5e29599e99"
      },
      "execution_count": 2,
      "outputs": [
        {
          "output_type": "stream",
          "name": "stdout",
          "text": [
            "Error: Width must be greater than 0."
          ]
        }
      ]
    },
    {
      "cell_type": "markdown",
      "metadata": {
        "id": "DCc2nVC8DFT4"
      },
      "source": [
        "## Using the `runtime_error` class\n",
        "\n",
        "Instead of throwing arbitrary values for exceptions, we can use the standard  `runtime_error` exception class the C++ provides via the header the file `<stdexcept>`. Here is another version of the `divide` function."
      ]
    },
    {
      "cell_type": "code",
      "execution_count": 3,
      "metadata": {
        "id": "ZP9JdNzADFT5",
        "outputId": "958f96a7-91d3-43f1-bc7d-aae1e2fd3260",
        "colab": {
          "base_uri": "https://localhost:8080/"
        }
      },
      "outputs": [
        {
          "output_type": "stream",
          "name": "stdout",
          "text": [
            "Writing ex04.cpp\n"
          ]
        }
      ],
      "source": [
        "%%writefile ex04.cpp\n",
        "\n",
        "#include <iostream>\n",
        "#include <stdexcept>\n",
        "#include <iomanip>\n",
        "#include <fstream>\n",
        "#include <string>\n",
        "#include <vector>\n",
        "\n",
        "using namespace std;\n",
        "\n",
        "double divide(double number, double by){\n",
        "  if(by == 0){\n",
        "    throw runtime_error(\"divide by zero\");\n",
        "  }\n",
        "\n",
        "  return number / by;\n",
        "}\n",
        "\n",
        "int main() {\n",
        "  double m, n;\n",
        "\n",
        "  cout << \"Enter a double number: \";\n",
        "  cin >> m;\n",
        "  cout << \"Enter an other double number to divide \" << m << \" by: \";\n",
        "  cin >> n;\n",
        "  try {\n",
        "    cout << m << \" / \"  << n << \": \" << divide(m, n) << endl;\n",
        "    cout << \"DONE!\\n\";\n",
        "  }catch(runtime_error& ex){\n",
        "      cerr << \"Exception occurred: \" << ex.what();\n",
        "  }\n",
        "\n",
        "  return 0;\n",
        "}"
      ]
    },
    {
      "cell_type": "markdown",
      "metadata": {
        "id": "-1Ephn1nDFT5"
      },
      "source": [
        "Using the `runtime_error` allows us to provide a message describing what the thrown exception is about. Here is how we handle this exception. Notice the use of the `what()` function of the thrown `runtime_error` exception to get the exception message.\n",
        "\n",
        "Here is the output of the program:"
      ]
    },
    {
      "cell_type": "code",
      "execution_count": 4,
      "metadata": {
        "id": "Tuuco6XCDFT5",
        "outputId": "05e4938b-00a1-4e17-f542-71c3d0e39e50",
        "colab": {
          "base_uri": "https://localhost:8080/"
        }
      },
      "outputs": [
        {
          "output_type": "stream",
          "name": "stdout",
          "text": [
            "Enter a double number: 20.5\n",
            "Enter an other double number to divide 20.5 by: 40.5\n",
            "20.5 / 40.5: 0.506173\n",
            "DONE!\n"
          ]
        }
      ],
      "source": [
        "!g++ -std=c++17 ex04.cpp -o ex04\n",
        "!./ex04"
      ]
    },
    {
      "cell_type": "markdown",
      "metadata": {
        "id": "00iINbojDFT6"
      },
      "source": [
        "## Using own exception class\n",
        "\n",
        "Alternatively, we can create our own exception class. Here is a simple exception class that extends or inherits from the standard `runtime_error` class."
      ]
    },
    {
      "cell_type": "code",
      "execution_count": 5,
      "metadata": {
        "id": "0sJriZw_DFT6",
        "outputId": "237b7c3f-568d-4d0f-a8cc-5d1c6fd37cd7",
        "colab": {
          "base_uri": "https://localhost:8080/"
        }
      },
      "outputs": [
        {
          "output_type": "stream",
          "name": "stdout",
          "text": [
            "Writing ex05.cpp\n"
          ]
        }
      ],
      "source": [
        "%%writefile ex05.cpp\n",
        "\n",
        "#include <iostream>\n",
        "#include <stdexcept>\n",
        "#include <iomanip>\n",
        "#include <fstream>\n",
        "#include <string>\n",
        "#include <vector>\n",
        "\n",
        "using namespace std;\n",
        "\n",
        "class DivisionByZero : public runtime_error{\n",
        "public:\n",
        "    DivisionByZero(): runtime_error(\"divide by zero\"){}\n",
        "};"
      ]
    },
    {
      "cell_type": "markdown",
      "metadata": {
        "id": "U7bMcji2DFT6"
      },
      "source": [
        "Here is a version of the `divide` function using this exception:"
      ]
    },
    {
      "cell_type": "code",
      "execution_count": 6,
      "metadata": {
        "id": "irZw-gr4DFT6",
        "outputId": "0652b01e-c445-4621-dcbe-3a22a1cf94e8",
        "colab": {
          "base_uri": "https://localhost:8080/"
        }
      },
      "outputs": [
        {
          "output_type": "stream",
          "name": "stdout",
          "text": [
            "Appending to ex05.cpp\n"
          ]
        }
      ],
      "source": [
        "%%writefile -a ex05.cpp\n",
        "\n",
        "double divide(double number, double by){\n",
        "    if(by == 0){\n",
        "        throw DivisionByZero();\n",
        "    }\n",
        "\n",
        "    return number / by;\n",
        "}"
      ]
    },
    {
      "cell_type": "markdown",
      "metadata": {
        "id": "P-Oq-wUCDFT7"
      },
      "source": [
        "And here is the code to try and catch it:"
      ]
    },
    {
      "cell_type": "code",
      "execution_count": 7,
      "metadata": {
        "id": "L_PlpggjDFT7",
        "outputId": "f0f1603a-b241-4729-f3ba-ac474b42eee4",
        "colab": {
          "base_uri": "https://localhost:8080/"
        }
      },
      "outputs": [
        {
          "output_type": "stream",
          "name": "stdout",
          "text": [
            "Appending to ex05.cpp\n"
          ]
        }
      ],
      "source": [
        "%%writefile -a ex05.cpp\n",
        "\n",
        "int main() {\n",
        "  double m, n;\n",
        "\n",
        "  cout << \"Enter a double number: \";\n",
        "  cin >> m;\n",
        "  cout << \"Enter an other double number to divide \" << m << \" by: \";\n",
        "  cin >> n;\n",
        "  try {\n",
        "      cout << m << \" / \"  << n << \": \" << divide(m, n) << endl;\n",
        "      cout << \"DONE!\\n\";\n",
        "  }catch(DivisionByZero& ex){\n",
        "      cerr << \"Exception occurred: \" << ex.what();\n",
        "  }\n",
        "\n",
        "  return 0;\n",
        "}"
      ]
    },
    {
      "cell_type": "code",
      "source": [
        "!g++ -std=c++17 ex05.cpp -o ex05\n",
        "!./ex05"
      ],
      "metadata": {
        "id": "VRvK3Yc1PSTZ",
        "outputId": "9781d1ff-f519-4ba6-e2d7-549dfcea2966",
        "colab": {
          "base_uri": "https://localhost:8080/"
        }
      },
      "execution_count": 8,
      "outputs": [
        {
          "output_type": "stream",
          "name": "stdout",
          "text": [
            "Enter a double number: 20.5\n",
            "Enter an other double number to divide 20.5 by: 10.2\n",
            "20.5 / 10.2: 2.0098\n",
            "DONE!\n"
          ]
        }
      ]
    },
    {
      "cell_type": "markdown",
      "metadata": {
        "id": "k7eBbhlsDFT8"
      },
      "source": [
        "## Catching more than one exception\n",
        "\n",
        "In C++, we can have more than one `catch` block for the same `try` block. This is because the code inside the `try` block can throw more than one exception or no exceptions at all. Here is an example with three `catch` blocks.\n",
        "\n",
        "```c++\n",
        "try {\n",
        "   // Code to execute\n",
        "} catch (invalid_argument& e){\n",
        "   // Handle invalid argument\n",
        "} catch (runtime_error& e){\n",
        "   // Handle exception\n",
        "} catch (...){\n",
        "   // Handle anything else\n",
        "}\n",
        "```\n",
        "\n",
        "The third `catch` block has `...` between its parentheses to catch everything else that is not `invalid_argument` or `runtime_error`.\n",
        "\n",
        "We can also use the `catch(...)` block by itself if we want to catch all possible exceptions without distinguishing one from another.\n",
        "\n",
        "```c++\n",
        "try {\n",
        "   // Code to execute\n",
        "} catch (...){\n",
        "   // Code to handle all exceptions\n",
        "}\n",
        "```"
      ]
    },
    {
      "cell_type": "markdown",
      "metadata": {
        "id": "82sqrcS2DFT8"
      },
      "source": [
        "# Templates\n",
        "\n",
        "## Function templates\n",
        "\n",
        "In programming, we often come across functions or classes that are generic in nature; meaning that they can be applied the same way to objects of different data types. Take, for instance, the following `lesserOf` function, which takes two double arguments and returns the lesser of the two.\n",
        "\n",
        "```cpp\n",
        "double lesserOf(double n, double m){\n",
        "    return n < m ? n : m;\n",
        "}\n",
        "```"
      ]
    },
    {
      "cell_type": "markdown",
      "metadata": {
        "id": "LJIQnymHDFT-"
      },
      "source": [
        "If we were to implement this `lesserOf` function for integers or strings, we would end up with the same function duplicated three times; only the data types of the arguments would change.\n",
        "\n",
        "How can we make functions like `lesserOf` generic and without repeating the same logic over and over? C++'s answer to this important question is **generic functions** or **function templates**. According to cplusplus.com,  \"**Function templates** are special functions that can operate with generic types. This allows us to create a function template whose functionality can be adapted to more than one type or class without repeating the entire code for each type\".\n",
        "\n",
        "To define a **function template** we start with the keyword `template` followed by the angle brackets `<>` and in between them the keyword `typename` and a type identifier of your choosing such as `T` or `TypeID`. We do all this in front of the function declaration or definition either in the same line or in the line above.\n",
        "\n",
        "You can also replace the keyword `typename` with the keyword `class`. I personally recommend using `typename`. That way the keyword `class` is only used to create classes.\n",
        "\n",
        "Here is the lesserOf function as a function template:\n",
        "\n",
        "```cpp\n",
        "template<typename T>\n",
        "T lesserOf(T n, T m){\n",
        "    return n < m ? n : m;\n",
        "}\n",
        "```"
      ]
    },
    {
      "cell_type": "markdown",
      "metadata": {
        "id": "-4gSK-v1DFT-"
      },
      "source": [
        "or like this (with the keyword `typename` replaced by the keyword `class`):\n",
        "\n",
        "```c++\n",
        "template<class T>\n",
        "T lesserOf(T n, T m){\n",
        "    return n < m ? n : m;\n",
        "}\n",
        "```"
      ]
    },
    {
      "cell_type": "markdown",
      "metadata": {
        "id": "-ge8tEwRDFT-"
      },
      "source": [
        "Here we used the generic type `T` for the return type and arguments. This type `T` is not a real type, the compiler will replace it with the actual data type when the function is called.\n",
        "\n",
        "When the compiler sees a **function template** like this, it takes note of it and when it sees a call to it, it generates a specific version of the function template based on the data types of its arguments.  In other words, the call:\n",
        "\n",
        "```cpp\n",
        "cout << lesserOf<int>(12, 9) << endl;\n",
        "```"
      ]
    },
    {
      "cell_type": "markdown",
      "metadata": {
        "id": "nj0tjxY7DFT_"
      },
      "source": [
        "will cause the compiler to generate a function like  this:\n",
        "\n",
        "```c++\n",
        "int lesserOf(int n, int m){\n",
        "    return n < m ? n : m;\n",
        "}\n",
        "```\n",
        "\n",
        "because the arguments of the call were integers. Notice the use of the angle brackets `<>` after the function name to pass the actual data type of the arguments.\n",
        "\n",
        "Similarly, the call:\n",
        "\n",
        "```cpp\n",
        "cout << lesserOf<double>(1.2, 9.8) << endl;\n",
        "```"
      ]
    },
    {
      "cell_type": "markdown",
      "metadata": {
        "id": "xmPeznLRDFUA"
      },
      "source": [
        "will cause the compiler to generate this function because of the double arguments:\n",
        "\n",
        "```c++\n",
        "double lesserOf(double n, double m){\n",
        "    return n < m ? n : m;\n",
        "}\n",
        "```\n",
        "\n",
        "And to make it easier for the programmers, the compiler does not require the angle brackets `<>` as long as it can detect the types from the function arguments. That means, the previous calls to `lesserOf` can be rewritten without the angle brackets `<>` and the compiler will be able to deduce the data type from the passed arguments. For example, the statements:\n",
        "\n",
        "```cpp\n",
        "cout << lesserOf(12, 9) << endl;\n",
        "cout << lesserOf(1.2, 9.8) << endl;\n",
        "```\n",
        "\n",
        "will compile without errors and output:\n",
        "\n",
        "```txt\n",
        "9\n",
        "1.2\n",
        "```"
      ]
    },
    {
      "cell_type": "markdown",
      "metadata": {
        "id": "70HzPq8DDFUA"
      },
      "source": [
        "## CODING CHALLENGE 2\n",
        "\n",
        "Here is a function that compares two integers `a` and `b` and returns 0 if `a` equals `b`, 1 if `a` is greater than `b`, and -1 if `a` is less than `b`.\n",
        "\n",
        "```c++\n",
        "int compareTo(double a, double b){\n",
        "    if(a > b) return 1;\n",
        "    else if (a == b) return 0;\n",
        "    else return -1;\n",
        "}\n",
        "```\n",
        "\n",
        "Copy this function to the program below and make it a function template that works for different arguments than double. Notice that this function should always return `int`. In the `main` function, test your function template using integer, double, and string arguments with and without the angle brackets `<>` after the function name."
      ]
    },
    {
      "cell_type": "code",
      "execution_count": 13,
      "metadata": {
        "scrolled": true,
        "id": "nSkEDII5DFUA",
        "outputId": "65ddc409-0c03-4ba5-9142-d9cfd8519e10",
        "colab": {
          "base_uri": "https://localhost:8080/"
        }
      },
      "outputs": [
        {
          "output_type": "stream",
          "name": "stdout",
          "text": [
            "Overwriting ch02.cpp\n"
          ]
        }
      ],
      "source": [
        "%%writefile ch02.cpp\n",
        "\n",
        "#include <iostream>\n",
        "using namespace std;\n",
        "\n",
        "//TODO: Function template goes here\n",
        "\n",
        "template <typename T>\n",
        "int compareTo(T a, T b) {\n",
        "    if (a > b) {\n",
        "        return 1;\n",
        "    } else if (a == b) {\n",
        "        return 0;\n",
        "    } else {\n",
        "        return -1;\n",
        "    }\n",
        "}\n",
        "\n",
        "int main(){\n",
        "  //TODO: Function calls go here\n",
        "\n",
        "  {\n",
        "    int i1 = 1;\n",
        "    int i2 = 2;\n",
        "\n",
        "    cout << compareTo(i1, i2) << endl;\n",
        "\n",
        "    double d1 = 100.2;\n",
        "    double d2 = 100.2;\n",
        "\n",
        "    cout << compareTo(d1, d2) << endl;\n",
        "\n",
        "    string s1 = \"xyz\";\n",
        "    string s2 = \"abc\";\n",
        "\n",
        "    cout << compareTo(s1, s2) << endl;\n",
        "}\n",
        "\n",
        "  return 0;\n",
        "}"
      ]
    },
    {
      "cell_type": "code",
      "execution_count": 14,
      "metadata": {
        "id": "0tRtyg_xDFUB",
        "colab": {
          "base_uri": "https://localhost:8080/"
        },
        "outputId": "4392a4a3-94e8-4bc5-e096-5398edc1f0d7"
      },
      "outputs": [
        {
          "output_type": "stream",
          "name": "stdout",
          "text": [
            "-1\n",
            "0\n",
            "1\n"
          ]
        }
      ],
      "source": [
        "!g++ -std=c++17 ch02.cpp -o ch02\n",
        "!./ch02"
      ]
    },
    {
      "cell_type": "markdown",
      "metadata": {
        "id": "2yh0EM5dDFUB"
      },
      "source": [
        "## More than one template type\n",
        "\n",
        "And we are not limited to a single template type, we can have two or more types. Here is an example with two template types `T` and `S` (you can choose different names for these types if you want to). This function tries to find a given value in an array and if found return the index of the found value.\n",
        "\n",
        "```cpp\n",
        "template <typename T, typename S>\n",
        "S find(T* data, T value, S size){\n",
        "    for(S j = 0; j < size; j++){\n",
        "        if(data[j] == value){\n",
        "            return j;\n",
        "        }\n",
        "    }\n",
        "    \n",
        "    return -1;\n",
        "}\n",
        "```"
      ]
    },
    {
      "cell_type": "markdown",
      "metadata": {
        "id": "zsGPwNKtDFUB"
      },
      "source": [
        "Here is how to call this function.\n",
        "\n",
        "```cpp\n",
        "char vowels[] = {'A', 'E', 'I', 'O', 'U', 'Y'};\n",
        "cout << find(vowels, 'X', 6) << endl;             \n",
        "cout << find<char, unsigned>(vowels, 'U', 6) << endl;\n",
        "```\n",
        "\n",
        "which returns:\n",
        "\n",
        "```txt\n",
        "-1\n",
        "4\n",
        "```"
      ]
    },
    {
      "cell_type": "markdown",
      "metadata": {
        "id": "GelONxyYDFUC"
      },
      "source": [
        "## Class templates\n",
        "\n",
        "**Generic programming** in C++ does not stop at **function templates**, it also supports **class templates**. Here is an example using the vector class."
      ]
    },
    {
      "cell_type": "code",
      "execution_count": 15,
      "metadata": {
        "id": "RPhmtJvQDFUC",
        "outputId": "2f132607-263d-41c0-f02e-5ab49f79e3b9",
        "colab": {
          "base_uri": "https://localhost:8080/"
        }
      },
      "outputs": [
        {
          "output_type": "stream",
          "name": "stdout",
          "text": [
            "Writing ex06.cpp\n"
          ]
        }
      ],
      "source": [
        "%%writefile ex06.cpp\n",
        "\n",
        "#include <iostream>\n",
        "#include <vector>\n",
        "\n",
        "using namespace std;\n",
        "\n",
        "int main(){\n",
        "  vector<double> grades = {89.5, 91.0, 96.25, 75.5, 94.75};\n",
        "  double average = 0;\n",
        "  for(double grade : grades){\n",
        "      average += grade / grades.size();\n",
        "  }\n",
        "\n",
        "  cout << \"Grade average: \" << average << endl;\n",
        "\n",
        "  return 0;\n",
        "}"
      ]
    },
    {
      "cell_type": "code",
      "source": [
        "!g++ -std=c++17 ex06.cpp -o ex06\n",
        "!./ex06"
      ],
      "metadata": {
        "id": "-YVjIFhGQlVg",
        "outputId": "f22fed2e-e836-41c9-bb99-2d09e1ac634d",
        "colab": {
          "base_uri": "https://localhost:8080/"
        }
      },
      "execution_count": 16,
      "outputs": [
        {
          "output_type": "stream",
          "name": "stdout",
          "text": [
            "Grade average: 89.4\n"
          ]
        }
      ]
    },
    {
      "cell_type": "markdown",
      "metadata": {
        "id": "P2uGINFKDFUC"
      },
      "source": [
        "Did you notice the angle brackets `<>` after `vector`? That tells us that `vector` is a **class template**. Other class templates that the C++ standard library comes with include `map`, `array`, `queue` and `stack`, to name a few. As a matter of fact, class templates are critical to implementing the classic data structures and algorithms that are the bedrock of computer science.\n",
        "\n",
        "Like function templates, we define class templates using the keyword `template` followed by angle brackets `<>` with one or more type declarations in between; each preceded by the `typename` or `class` keyword. Here is an example class template `A` with a single type argument `T`."
      ]
    },
    {
      "cell_type": "code",
      "execution_count": 17,
      "metadata": {
        "id": "FVnPyn2DDFUC",
        "outputId": "209eaf4a-567c-489e-d2b3-25f82ced9604",
        "colab": {
          "base_uri": "https://localhost:8080/"
        }
      },
      "outputs": [
        {
          "output_type": "stream",
          "name": "stdout",
          "text": [
            "Writing ex07.cpp\n"
          ]
        }
      ],
      "source": [
        "%%writefile ex07.cpp\n",
        "\n",
        "#include <iostream>\n",
        "\n",
        "using namespace std;\n",
        "\n",
        "template <typename T>\n",
        "class A{\n",
        "public:\n",
        "  A(T a): m(a){}\n",
        "  void show(){\n",
        "    cout << \"My A-number is: \" << m << endl;\n",
        "  }\n",
        "  ~A(){}\n",
        "private:\n",
        "  T m;\n",
        "};"
      ]
    },
    {
      "cell_type": "markdown",
      "metadata": {
        "id": "3NIUMviXDFUD"
      },
      "source": [
        "To create an object from a class template, we must provide the type between the angle brackets `<>` as you see here. In other words, the angle brackets `<>` are not optional as was the case with function templates.\n",
        "\n",
        "Here is a program with three different objects of this `A` class: one in the stack and two in the heap using the `new` operator. Because each of these objects has a different type, the compiler will create thee different actual classes from this class template: one for `int`, another for `double` and the last one for `string`."
      ]
    },
    {
      "cell_type": "code",
      "execution_count": 18,
      "metadata": {
        "scrolled": true,
        "id": "aE-LU0fYDFUD",
        "outputId": "1e47d909-dd8f-4704-ae3b-69e698c6664b",
        "colab": {
          "base_uri": "https://localhost:8080/"
        }
      },
      "outputs": [
        {
          "output_type": "stream",
          "name": "stdout",
          "text": [
            "Appending to ex07.cpp\n"
          ]
        }
      ],
      "source": [
        "%%writefile -a ex07.cpp\n",
        "\n",
        "int main(){\n",
        "  A<int> a(56);\n",
        "  a.show();\n",
        "\n",
        "  A<double> *b = new A<double>(44.5);\n",
        "  b->show();\n",
        "\n",
        "  A<string> *c = new A<string>(\"James\");\n",
        "  c->show();\n",
        "\n",
        "  delete b, c;\n",
        "\n",
        "  return 0;\n",
        "}"
      ]
    },
    {
      "cell_type": "code",
      "source": [
        "!g++ -std=c++17 ex07.cpp -o ex07\n",
        "!./ex07"
      ],
      "metadata": {
        "id": "6A3TCaoARbUh",
        "outputId": "b8c4c862-ced3-4757-cabe-5e22e88ad0e0",
        "colab": {
          "base_uri": "https://localhost:8080/"
        }
      },
      "execution_count": 19,
      "outputs": [
        {
          "output_type": "stream",
          "name": "stdout",
          "text": [
            "My A-number is: 56\n",
            "My A-number is: 44.5\n",
            "My A-number is: James\n"
          ]
        }
      ]
    },
    {
      "cell_type": "markdown",
      "metadata": {
        "id": "v-w2Q3ldDFUD"
      },
      "source": [
        "Here is another class template `BC` with two type arguments followed by two objects of this class."
      ]
    },
    {
      "cell_type": "code",
      "execution_count": 20,
      "metadata": {
        "id": "-VINIJoIDFUD",
        "outputId": "40974bc5-0368-46a2-b76d-fd0f04952565",
        "colab": {
          "base_uri": "https://localhost:8080/"
        }
      },
      "outputs": [
        {
          "output_type": "stream",
          "name": "stdout",
          "text": [
            "Writing ex08.cpp\n"
          ]
        }
      ],
      "source": [
        "%%writefile ex08.cpp\n",
        "\n",
        "#include <iostream>\n",
        "\n",
        "using namespace std;\n",
        "\n",
        "template <typename E, typename T>\n",
        "class BC{\n",
        "public:\n",
        "    BC(E b, T c): b(b), c(c){}\n",
        "    void print(){\n",
        "        cout << \"b: \" << b << \", \"\n",
        "             << \"c: \" << c << endl;\n",
        "    }\n",
        "    ~BC(){}\n",
        "private:\n",
        "    E b;\n",
        "    T c;\n",
        "};"
      ]
    },
    {
      "cell_type": "code",
      "execution_count": 21,
      "metadata": {
        "id": "lw7EXE5NDFUD",
        "outputId": "1338d72f-eb5a-4f1a-97a2-115888ba8230",
        "colab": {
          "base_uri": "https://localhost:8080/"
        }
      },
      "outputs": [
        {
          "output_type": "stream",
          "name": "stdout",
          "text": [
            "Appending to ex08.cpp\n"
          ]
        }
      ],
      "source": [
        "%%writefile -a ex08.cpp\n",
        "\n",
        "int main(){\n",
        "  BC<int, double> bc(10, 89.05);\n",
        "  bc.print();\n",
        "\n",
        "  BC<string, short> *bcptr = new BC<string, short>(\"Washington\", 10);\n",
        "  bcptr->print();\n",
        "  delete bcptr;\n",
        "\n",
        "  return 0;\n",
        "}"
      ]
    },
    {
      "cell_type": "code",
      "source": [
        "!g++ -std=c++17 ex08.cpp -o ex08\n",
        "!./ex08"
      ],
      "metadata": {
        "id": "4RLtDBXOR6it",
        "outputId": "bfd07abb-609a-4581-b263-8bae9a20e5fd",
        "colab": {
          "base_uri": "https://localhost:8080/"
        }
      },
      "execution_count": null,
      "outputs": [
        {
          "output_type": "stream",
          "name": "stdout",
          "text": [
            "b: 10, c: 89.05\n",
            "b: Washington, c: 10\n"
          ]
        }
      ]
    },
    {
      "cell_type": "markdown",
      "metadata": {
        "id": "e2k4yJAiDFUE"
      },
      "source": [
        "## CODING CHALLENGE 3\n",
        "\n",
        "In code cell below, write a class template named `Pair` with two type arguments `K`and `V`.  This template is for grouping two values into a pair, which could be useful in data structures like maps and dictionaries, with the first value being the key and the second being the value or meaning. This class should have two private data members: one named `key` of the first type argument and the second named `value` of the second type argument. This class should have a two-argument constructor, a destructor, and the following four member functions (getters/setters):\n",
        "* `K getKey()` for returning the key the pair.\n",
        "* `void setKey(K k)` for setting the key of the pair to the passed argument.\n",
        "* `V getValue()` for returning the value the pair.\n",
        "* `void setValue(V v)` for setting the value of the pair to the passed argument.\n",
        "\n",
        "In the `main` function, create four pair objects each with a different type combinations. Two of these objects should be in the stack and two in the heap (using the `new` operator). On each object call at least two of the member functions above."
      ]
    },
    {
      "cell_type": "code",
      "execution_count": 22,
      "metadata": {
        "id": "0DkIK_dCDFUE",
        "outputId": "ff7d8fd2-dd58-410f-e75b-9b4b919eca71",
        "colab": {
          "base_uri": "https://localhost:8080/"
        }
      },
      "outputs": [
        {
          "output_type": "stream",
          "name": "stdout",
          "text": [
            "Writing ch03.cpp\n"
          ]
        }
      ],
      "source": [
        "%%writefile ch03.cpp\n",
        "\n",
        "#include <iostream>\n",
        "\n",
        "using namespace std;\n",
        "\n",
        "//TODO: class template goes here\n",
        "\n",
        "template <typename K, typename V>\n",
        "class Pair {\n",
        "private:\n",
        "    K key;\n",
        "    V value;\n",
        "public:\n",
        "    Pair(K k, V v): key(k), value(v) {}\n",
        "    ~Pair() {}\n",
        "    K getKey() { return key; }\n",
        "    void setKey(K k) { key = k; }\n",
        "    V getValue() { return value; }\n",
        "    void setValue(V v) {value = v; }\n",
        "};\n",
        "\n",
        "int main(){\n",
        "  //TODO: object definitions go here\n",
        "\n",
        "  {\n",
        "    Pair<string, short> paul = Pair<string, short>(\"Paul\", 30);\n",
        "    Pair<long, string> camus = Pair<long, string>(8015553807, \"Albert Camus\");\n",
        "    Pair<string, long>* strangerAuthorID = new Pair<string, long>(\"The Stranger\", 8015553807);\n",
        "    Pair<string, string>* firstLine = new Pair<string, string>(\"The Stranger\", \"Mother died today.\");\n",
        "\n",
        "\n",
        "    cout << paul.getValue() << endl;\n",
        "    cout << camus.getKey() << endl;\n",
        "    cout << camus.getValue() << endl;\n",
        "    cout << firstLine->getKey() << endl;\n",
        "    cout << firstLine->getValue() << endl;\n",
        "  }\n",
        "\n",
        "  return 0;\n",
        "}"
      ]
    },
    {
      "cell_type": "code",
      "execution_count": 23,
      "metadata": {
        "id": "-Lo83fNFDFUE",
        "colab": {
          "base_uri": "https://localhost:8080/"
        },
        "outputId": "2a46ce93-7a99-4e3a-aedd-f22a9900919a"
      },
      "outputs": [
        {
          "output_type": "stream",
          "name": "stdout",
          "text": [
            "30\n",
            "8015553807\n",
            "Albert Camus\n",
            "The Stranger\n",
            "Mother died today.\n"
          ]
        }
      ],
      "source": [
        "!g++ -std=c++17 ch03.cpp -o ch03\n",
        "!./ch03"
      ]
    },
    {
      "cell_type": "markdown",
      "metadata": {
        "id": "-IldP8cFDFUE"
      },
      "source": [
        "## Templates with constant type arguments\n",
        "Class templates can have constant type arguments. The template class `array` from the standard library, for example, requires two type arguments to create a static array: the type of the data in the array and size of the array.\n",
        "\n",
        "```cpp\n",
        "#include <array>\n",
        "array<int, 2> vals = {11, 17};\n",
        "```"
      ]
    },
    {
      "cell_type": "markdown",
      "metadata": {
        "id": "tROOCasVDFUF"
      },
      "source": [
        "Here is an example of using constant type arguments to create our `OwnArray`. It has two constructors: a no-argument constructor and a one-argument constructor."
      ]
    },
    {
      "cell_type": "code",
      "execution_count": 24,
      "metadata": {
        "id": "Xox8rdy7DFUF",
        "outputId": "59d4d69f-4311-4faf-b803-0bd9357fbd77",
        "colab": {
          "base_uri": "https://localhost:8080/"
        }
      },
      "outputs": [
        {
          "output_type": "stream",
          "name": "stdout",
          "text": [
            "Writing ex09.cpp\n"
          ]
        }
      ],
      "source": [
        "%%writefile ex09.cpp\n",
        "\n",
        "#include <iostream>\n",
        "#include <string>\n",
        "\n",
        "using namespace std;\n",
        "\n",
        "template <typename T, unsigned short S>\n",
        "class OwnArray {\n",
        "private:\n",
        "    T *data;\n",
        "    int size;\n",
        "public:\n",
        "    OwnArray(): size(S), data(new T[S]){}\n",
        "    OwnArray(T *arr): OwnArray(){\n",
        "        for(int i = 0; i < size; i++){\n",
        "            data[i] = arr[i];\n",
        "        }\n",
        "    }\n",
        "    void print(){\n",
        "        for (int i = 0; i < size; i++){\n",
        "            cout << \" \" << *(data + i);\n",
        "        }\n",
        "        cout << endl;\n",
        "    }\n",
        "    ~OwnArray(){\n",
        "        delete[] data;\n",
        "    }\n",
        "};"
      ]
    },
    {
      "cell_type": "markdown",
      "metadata": {
        "id": "IFaPpTQrDFUF"
      },
      "source": [
        "Notice how the one-argument constructor delegates the initialization of the `data` member to the no-argument constructor. Here is an example of using this class:"
      ]
    },
    {
      "cell_type": "code",
      "execution_count": 25,
      "metadata": {
        "id": "Gke8lmh7DFUG",
        "outputId": "d0f96114-7c78-40e8-b167-d4964f4ddc53",
        "colab": {
          "base_uri": "https://localhost:8080/"
        }
      },
      "outputs": [
        {
          "output_type": "stream",
          "name": "stdout",
          "text": [
            "Appending to ex09.cpp\n"
          ]
        }
      ],
      "source": [
        "%%writefile -a ex09.cpp\n",
        "\n",
        "int main(){\n",
        "  string arr[] = {\"ma\", \"ma\", \"mia\"};\n",
        "  OwnArray<string, 3> oa(arr);\n",
        "  oa.print();\n",
        "\n",
        "  return 0;\n",
        "}"
      ]
    },
    {
      "cell_type": "code",
      "source": [
        "!g++ -std=c++17 ex09.cpp -o ex09\n",
        "!./ex09"
      ],
      "metadata": {
        "id": "1G5eLA2OTQ87",
        "outputId": "9153ed45-7188-4cd6-f57b-7ad368588d3a",
        "colab": {
          "base_uri": "https://localhost:8080/"
        }
      },
      "execution_count": 26,
      "outputs": [
        {
          "output_type": "stream",
          "name": "stdout",
          "text": [
            " ma ma mia\n"
          ]
        }
      ]
    },
    {
      "cell_type": "markdown",
      "metadata": {
        "id": "yQ_acBcODFUG"
      },
      "source": [
        "## Templates with separted definition and implementation\n",
        "And like regular classes, we can separate the definition of class template from its implementation.\n",
        "\n",
        "It's not straightforward, however, to separate a C++ template class into .h and .cpp files in the same way as non-template classes. This is because the compiler needs to know the complete definition of the template class at the point of instantiation, which typically happens in the testing code.\n",
        "\n",
        "As a result, we usually make the separation in the `.h` file.\n",
        "\n",
        "Here is an example, revising the `OwnArray` class above.\n",
        "\n",
        "First, the class definition and implemenation, separated but saved into the `.h` file."
      ]
    },
    {
      "cell_type": "code",
      "execution_count": 27,
      "metadata": {
        "id": "K3h3Sy9NDFUG",
        "outputId": "8a3f8273-b76b-429a-f117-32a3baf0af28",
        "colab": {
          "base_uri": "https://localhost:8080/"
        }
      },
      "outputs": [
        {
          "output_type": "stream",
          "name": "stdout",
          "text": [
            "Writing own_array.h\n"
          ]
        }
      ],
      "source": [
        "%%writefile own_array.h\n",
        "\n",
        "#ifndef __OWN_ARRAY_H__\n",
        "#define __OWN_ARRAY_H__\n",
        "\n",
        "#include <iostream>\n",
        "#include <string>\n",
        "\n",
        "// Class definition\n",
        "template <typename T, int S>\n",
        "class OwnArray {\n",
        "private:\n",
        "    T *data;\n",
        "    int size;\n",
        "public:\n",
        "    OwnArray();\n",
        "    OwnArray(T *arr);\n",
        "    void print();\n",
        "    ~OwnArray();\n",
        "};\n",
        "\n",
        "// Class implementation\n",
        "template <typename T, int S>\n",
        "OwnArray<T,S>::OwnArray(): size(S), data(new T[S]){}\n",
        "\n",
        "template <typename T, int S>\n",
        "OwnArray<T,S>::OwnArray(T *arr): OwnArray(){\n",
        "    for(int i = 0; i < size; i++){\n",
        "        data[i] = arr[i];\n",
        "    }\n",
        "}\n",
        "\n",
        "template <typename T, int S>\n",
        "void OwnArray<T,S>::print(){\n",
        "    for (int i = 0; i < size; i++){\n",
        "        std::cout << \" \" << *(data + i);\n",
        "    }\n",
        "    std::cout << std::endl;\n",
        "}\n",
        "\n",
        "template <typename T, int S>\n",
        "OwnArray<T,S>::~OwnArray(){\n",
        "    delete[] data;\n",
        "}\n",
        "\n",
        "#endif"
      ]
    },
    {
      "cell_type": "markdown",
      "metadata": {
        "id": "8VvpGiGTDFUH"
      },
      "source": [
        "Next, we test the class in a `.cpp` file with a `main` function. Here is one such program:"
      ]
    },
    {
      "cell_type": "code",
      "execution_count": 28,
      "metadata": {
        "id": "Zn6iZ1xdDFUH",
        "outputId": "94e7dbd1-c434-4469-beb4-7c0f6d164f40",
        "colab": {
          "base_uri": "https://localhost:8080/"
        }
      },
      "outputs": [
        {
          "output_type": "stream",
          "name": "stdout",
          "text": [
            "Writing ex10.cpp\n"
          ]
        }
      ],
      "source": [
        "%%writefile ex10.cpp\n",
        "\n",
        "#include \"own_array.h\"\n",
        "\n",
        "int main(){\n",
        "  std::string arr[] = {\"ma\", \"ma\", \"mia\"};\n",
        "  OwnArray<std::string, 3> ob(arr);\n",
        "  ob.print();\n",
        "\n",
        "  return 0;\n",
        "}"
      ]
    },
    {
      "cell_type": "markdown",
      "source": [
        "Let's compile and run this program."
      ],
      "metadata": {
        "id": "57TkhiCuVKxE"
      }
    },
    {
      "cell_type": "code",
      "source": [
        "!g++ -std=c++17  ex10.cpp -o ex10\n",
        "!./ex10"
      ],
      "metadata": {
        "id": "_6IHhpUXVEMP",
        "outputId": "7aa1713e-bff1-488b-a664-bd090ad62be8",
        "colab": {
          "base_uri": "https://localhost:8080/"
        }
      },
      "execution_count": 31,
      "outputs": [
        {
          "output_type": "stream",
          "name": "stdout",
          "text": [
            " ma ma mia\n"
          ]
        }
      ]
    },
    {
      "cell_type": "markdown",
      "metadata": {
        "id": "P-dW3T3PDFUI"
      },
      "source": [
        "To summarize, function and class templates are very powerful in eliminating code redundancy. They are necessary to implementing many of most commonly used classes in C++ including the vector class.\n",
        "\n",
        "\n",
        "## CODING CHALLENGE 4\n",
        "Refactor the following class template by separating its definition from its implementation.\n",
        "```c++\n",
        "template <typename T>\n",
        "class A{\n",
        "public:\n",
        "    A(T a): m(a){}\n",
        "    void show(){\n",
        "        cout << \"My number is: \" << m << endl;\n",
        "    }\n",
        "    ~A(){}\n",
        "private:\n",
        "    T m;\n",
        "};\n",
        "```"
      ]
    },
    {
      "cell_type": "code",
      "execution_count": 44,
      "metadata": {
        "id": "ifFyo0biDFUI",
        "outputId": "b99aa599-9238-48f0-9a21-c17fd4d372ae",
        "colab": {
          "base_uri": "https://localhost:8080/"
        }
      },
      "outputs": [
        {
          "output_type": "stream",
          "name": "stdout",
          "text": [
            "Overwriting a.h\n"
          ]
        }
      ],
      "source": [
        "%%writefile a.h\n",
        "\n",
        "#ifndef __A_H__\n",
        "#define __A_H__\n",
        "\n",
        "//TODO: class template definition goes here\n",
        "\n",
        "template <typename T>\n",
        "class A {\n",
        "private:\n",
        "    T m;\n",
        "public:\n",
        "    A(T a);\n",
        "    void show();\n",
        "    ~A();\n",
        "};\n",
        "\n",
        "//TODO: constructor implementation goes here\n",
        "\n",
        "template <typename T>\n",
        "A<T>::A(T a): m(a) {}\n",
        "\n",
        "//TODO: show() implementation goes here\n",
        "\n",
        "template <typename T>\n",
        "void A<T>::show() {\n",
        "    cout << \"My number is: \" << m << endl;\n",
        "}\n",
        "\n",
        "//TODO: destructor implementation goes here\n",
        "\n",
        "template <typename T>\n",
        "A<T>::~A() {}\n",
        "\n",
        "#endif"
      ]
    },
    {
      "cell_type": "code",
      "execution_count": 45,
      "metadata": {
        "id": "YsUrwNgzDFUI",
        "outputId": "95f04d0e-c774-43ad-f6ce-641f6c881473",
        "colab": {
          "base_uri": "https://localhost:8080/"
        }
      },
      "outputs": [
        {
          "output_type": "stream",
          "name": "stdout",
          "text": [
            "Overwriting ch04.cpp\n"
          ]
        }
      ],
      "source": [
        "%%writefile ch04.cpp\n",
        "\n",
        "//TODO: And include statements here\n",
        "  #include <iostream>\n",
        "  #include \"A.h\"\n",
        "\n",
        "  using namespace std;\n",
        "\n",
        "int main(){\n",
        "  //TODO: Test the class\n",
        "\n",
        "\n",
        "\n",
        "  return 0;\n",
        "}"
      ]
    },
    {
      "cell_type": "code",
      "source": [
        "!g++ -std=c++17  ch04.cpp -o ch04\n",
        "!./ch04"
      ],
      "metadata": {
        "id": "8nSoirOIebvs",
        "colab": {
          "base_uri": "https://localhost:8080/"
        },
        "outputId": "e28b58b5-277d-4e6d-b83e-02a01b1e29e0"
      },
      "execution_count": 46,
      "outputs": [
        {
          "output_type": "stream",
          "name": "stdout",
          "text": [
            "\u001b[01m\u001b[Kch04.cpp:4:12:\u001b[m\u001b[K \u001b[01;31m\u001b[Kfatal error: \u001b[m\u001b[KA.h: No such file or directory\n",
            "    4 |   #include \u001b[01;31m\u001b[K\"A.h\"\u001b[m\u001b[K\n",
            "      |            \u001b[01;31m\u001b[K^~~~~\u001b[m\u001b[K\n",
            "compilation terminated.\n",
            "/bin/bash: line 1: ./ch04: No such file or directory\n"
          ]
        }
      ]
    }
  ],
  "metadata": {
    "kernelspec": {
      "display_name": "Python 3",
      "name": "python3"
    },
    "language_info": {
      "name": "python"
    },
    "colab": {
      "provenance": [],
      "toc_visible": true
    }
  },
  "nbformat": 4,
  "nbformat_minor": 0
}